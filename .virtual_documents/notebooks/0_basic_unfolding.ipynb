import pyphi
from tutorial_functions import visualization as viz
from tutorial_functions import utils
import numpy as np

get_ipython().run_line_magic("load_ext", " blackcellmagic")
get_ipython().run_line_magic("load_ext", " autoreload")

get_ipython().run_line_magic("matplotlib", " inline")
get_ipython().run_line_magic("autoreload", " 2")


# give names to the units
node_labels = ["A","B","C"]

# set the strength of connectivity between units
connectivity = np.array(
    [
        [-.2,0.7,0.2],
        [0.7,-.2,0.0],
        [0.0,-.8,0.2]        
    ]
)

# set the level of determinism for the units' activation function 
determinism = 4

# build the network
substrate = pyphi.network_generator.build_network(
    [pyphi.network_generator.ising.probability]*len(node_labels),
    connectivity,
    temperature=1/determinism,
    node_labels=node_labels
)

# define the state of the substrate
state = (0,1,1)

substrate.node_labels


complexes = list(pyphi.new_big_phi.all_complexes(substrate,state))


def remove_overlapping_complexes(complexes, max_complex):
    max_complex_labels = [max_complex.node_labels[i] for i in max_complex.cause.mechanism]
    print(max_complex_labels)
    non_overlapping_complexes = [comp for comp in complexes if not any([u in max_complex_labels for u in comp.cause.mechanism])]
    print(non_overlapping_complexes)
    return non_overlapping_complexes

def all_complexes(substrate):
    complexes = list(pyphi.new_big_phi.all_complexes(substrate,state))
    maximal_complexes = []
    i = 0
    while len(complexes)>0 and i<10:
        max_complex = max(complexes)
        maximal_complexes.append(max_complex)
        
        complexes = remove_overlapping_complexes(complexes, max_complex)
        i+=1
        
    return maximal_complexes


complexes = all_complexes(substrate)


complexes


complexes


c = max(complexes)


c.cause.mechanism






