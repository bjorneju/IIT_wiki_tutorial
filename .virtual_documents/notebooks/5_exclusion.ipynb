import pyphi
import tutorial_functions
import numpy as np


# give names to the units
node_labels = ["A","B","C"]

# set the strength of connectivity between units
connectivity = np.array(
    [
        [-.2,0.7,0.2],
        [0.7,-.2,0.0],
        [0.0,-.8,0.2]        
    ]
)

# set the level of determinism for the units' activation function 
determinism = 4

# build the network
network = pyphi.network_generator.build_network(
    [pyphi.network_generator.ising.probability]*len(node_labels),
    connectivity,
    temperature=1/determinism,
    node_labels=node_labels
)


# show examples of raw causal conditioning


# show how to isolate the candidate and visualize the results


# compute selectivity for a few examples (include both cause and effect side)


# compute the intrinsic power for our candidate



