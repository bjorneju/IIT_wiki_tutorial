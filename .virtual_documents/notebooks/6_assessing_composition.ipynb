get_ipython().run_line_magic("load_ext", " blackcellmagic")
get_ipython().run_line_magic("load_ext", " autoreload")

get_ipython().run_line_magic("matplotlib", " inline")
get_ipython().run_line_magic("autoreload", " 2")
get_ipython().run_line_magic("reload_ext", " jupyternotify")
get_ipython().run_line_magic("autonotify", " -a 300")

import pyphi
from visualization import *

from pyphi import visualize

CAUSE = pyphi.direction.Direction.CAUSE  
EFFECT = pyphi.direction.Direction.EFFECT 

plot_theme = visualize.PhiPlotTheme(cause_effect_link_opacity = 0.0, mechanism_purview_link_color="darkorange", distinction_colorscale = 'mint')



n_nodes = 8
network = grid_1d_nearest_neighbor(n_nodes=n_nodes)

unit_id = 0
unit_tpm = get_unit_tpm(network, unit_id)
unit_tpm


# plot a 2x2 subplot of histograms using the cause_repertoire_information(subsystem, mechanism, purview) 
# and effect_repertoire_information(subsystem, mechanism, purview) functions wrapped in a function that accepts a network or subsystem as input.

# NOTE! Check that I acctually use "product distributions"


state = (0,) * n_nodes
system_nodes = (0, 1, 2, 3)
subsystem = pyphi.subsystem.Subsystem(network, state, system_nodes)

unit_tpm = get_unit_tpm(subsystem, unit_id)
unit_tpm


system_labels = [label for i,label in enumerate(subsystem.node_labels) if i in subsystem.node_indices]
powerset = list(pyphi.utils.powerset(system_labels,nonempty=True))
powerset


# first we select candidate parameters
mechanism = (0, 1)

candidate_cause_purview = (0, 1, 2)
candidate_effect_purview = (1,)

candidate_cause_state = (0, 1, 0)
candidate_effect_state = (1,)

candidate_cause_cut = pyphi.partition.complete_partition(
    mechanism, candidate_cause_purview
)
candidate_effect_cut = pyphi.partition.complete_partition(
    mechanism, candidate_effect_purview
)

# Next we compute the candidate distinctions
candidate_distinction = get_candidate_distinction(
    subsystem,
    mechanism,
    candidate_cause_purview,
    candidate_effect_purview,
    candidate_cause_state,
    candidate_effect_state,
    candidate_cause_cut,
    candidate_effect_cut,
)

candidate_distinction


structure = visualize.PhiStructure(
    visualize.CauseEffectStructure((candidate_distinction,), subsystem),
    relations=visualize.ConcreteRelations([]),
)
visualize.plot_phi_structure(structure, theme=plot_theme)


# get the powerset of indices
powerset = list(pyphi.utils.powerset(system_nodes,nonempty=True))

# compute the candidate distinctions
candidate_distinctions = [get_candidate_distinction(
    subsystem,
    mechanism,
) for mechanism in powerset]

# create the structure
candidate_structure = visualize.PhiStructure(
    visualize.CauseEffectStructure(tuple([d for d in candidate_distinctions if d is not None]), subsystem),
    relations=visualize.ConcreteRelations([]),
)

# and visualize
visualize.plot_phi_structure(candidate_structure, theme=plot_theme)


def retrieve_candidate_relata(subsets=(),directions=()):

    distinctions = {d.mechanism: d for d in candidate_structure.distinctions if d.mechanism in subsets}
    candidate_relata = [distinctions[subset].cause if directions[i]==CAUSE else distinctions[subset].effect for i, subset in enumerate(subsets)]
    
    return candidate_relata


# First choose a set of causes or effects from our candidate structure that we want to include in our first candidate relation.
# For this example, we will look at causes specified by the subsets A, AB, and ABC.
subsets = ((0,), (0, 1), (0, 1, 2))
directions = (CAUSE, CAUSE, CAUSE)

# We get the candidate relata (causes and effects defined above)
candidate_relata = retrieve_candidate_relata(subsets=subsets, directions=directions)

# And assess whether they specify any cause-effect power jointly
candidate_relation = pyphi.relations.relation(pyphi.relations.Relata(subsystem, candidate_relata))
candidate_relation


structure = visualize.PhiStructure(
    visualize.CauseEffectStructure(tuple([d for d in candidate_structure.distinctions if d.mechanism in subsets]), subsystem),
    relations=pyphi.relations.ConcreteRelations([candidate_relation]),
)
visualize.plot_phi_structure(structure, theme=plot_theme)


distinctions = visualize.CauseEffectStructure(tuple([d for d in candidate_structure.distinctions if d.mechanism in subsets]), subsystem)
relations = pyphi.relations.relations(subsystem, distinctions, computation='CONCRETE', max_degree=3)

structure = visualize.PhiStructure(
    distinctions,
    relations=relations,
)
visualize.plot_phi_structure(structure, theme=plot_theme)


distinctions = visualize.CauseEffectStructure(tuple(candidate_structure.distinctions), subsystem)
relations = pyphi.relations.relations(subsystem, distinctions, computation='CONCRETE', max_degree=3)

structure = visualize.PhiStructure(
    distinctions,
    relations=relations,
)
visualize.plot_phi_structure(structure, theme=plot_theme)





























mechanism = (0,1)
effect_of_mechanism = get_mechanism_tpm(subsystem, mechanism, direction=pyphi.direction.Direction.EFFECT)
effect_of_mechanism


show_tpm(
    subsystem.tpm,
    past_labels=[
        l for i, l in enumerate(subsystem.node_labels) if i in subsystem.node_indices
    ],
    future_labels=[
        l for i, l in enumerate(subsystem.node_labels) if i in subsystem.node_indices
    ],
    style="pandas",
    caption=None,
)


def plot_repertoire(ax, repertoire, states, stagger=0, color="black"):

    xaxis = np.array(range(len(repertoire)))

    # Move left y-axis and bottim x-axis to centre, passing through (0,0)
    ax.spines["bottom"].set_position("zero")

    # Eliminate upper and right axes
    ax.spines["right"].set_color("none")
    ax.spines["top"].set_color("none")

    ax.bar(xaxis - stagger, repertoire, width=0.7, color=color)

    ax.set_xticks(xaxis, purview_states, rotation=90)
    ax.set_yticks([0, 0.5, 1.0])
    ax.set_ylim([-0.1, 1.1])

    return ax


def cause_repertoire(subsystem, mechanism, purview):

    repertoire = pyphi.distribution.flatten(
        np.squeeze(subsystem.cause_repertoire(mechanism, purview))
    )
    purview_states = pyphi.utils.all_states(len(purview))

    # plotting first histogram
    fig = plt.figure()
    ax = fig.add_subplot(1, 1, 1)
    ax = plot_repertoire(ax, repertoire, purview_states, stagger=0.0)
    return fig


def effect_repertoire(subsystem, mechanism, purview):

    repertoire = pyphi.distribution.flatten(
        np.squeeze(subsystem.effect_repertoire(mechanism, purview))
    )
    purview_states = pyphi.utils.all_states(len(purview))

    # plotting first histogram
    fig = plt.figure()
    ax = fig.add_subplot(1, 1, 1)
    ax = plot_repertoire(ax, repertoire, purview_states, stagger=0.0)
    return fig


def cause_repertoire_integration(subsystem, mechanism, purview):

    repertoire = pyphi.distribution.flatten(
        np.squeeze(subsystem.cause_repertoire(mechanism, purview))
    )

    direction = pyphi.direction.Direction.CAUSE
    cut_repertoire = pyphi.distribution.flatten(
        np.squeeze(
            subsystem.find_mip(
                direction,
                mechanism,
                purview,
                state=subsystem.find_maximal_state_under_complete_partition(
                    direction, mechanism, purview
                )[0],
            ).partitioned_repertoire
        )
    )
    purview_states = pyphi.utils.all_states(len(purview))

    # plotting first histogram
    fig = plt.figure()
    ax = fig.add_subplot(1, 1, 1)
    ax = plot_repertoire(ax, cut_repertoire, purview_states, stagger=0.1, color="red")
    ax = plot_repertoire(ax, repertoire, purview_states, stagger=0.0)
    return fig


def effect_repertoire_integration(subsystem, mechanism, purview):

    repertoire = pyphi.distribution.flatten(
        np.squeeze(subsystem.cause_repertoire(mechanism, purview))
    )

    direction = pyphi.direction.Direction.EFFECT
    cut_repertoire = pyphi.distribution.flatten(
        np.squeeze(
            subsystem.find_mip(
                direction,
                mechanism,
                purview,
                state=subsystem.find_maximal_state_under_complete_partition(
                    direction, mechanism, purview
                )[0],
            ).partitioned_repertoire
        )
    )
    purview_states = pyphi.utils.all_states(len(purview))

    # plotting first histogram
    fig = plt.figure()
    ax = fig.add_subplot(1, 1, 1)
    ax = plot_repertoire(ax, cut_repertoire, purview_states, stagger=0.1, color="green")
    ax = plot_repertoire(ax, repertoire, purview_states, stagger=0.0)
    return fig


def cause_repertoire_information(subsystem, mechanism, purview):

    repertoire = pyphi.distribution.flatten(
        np.squeeze(subsystem.cause_repertoire(mechanism, purview))
    )

    direction = pyphi.direction.Direction.CAUSE
    cut_repertoire = pyphi.distribution.flatten(
        np.squeeze(
            subsystem.unconstrained_repertoire(
                direction,
                purview,
                ),
            )
        )
    purview_states = pyphi.utils.all_states(len(purview))

    # plotting first histogram
    fig = plt.figure()
    ax = fig.add_subplot(1, 1, 1)
    ax = plot_repertoire(ax, cut_repertoire, purview_states, stagger=0.1, color="gray")
    ax = plot_repertoire(ax, repertoire, purview_states, stagger=0.0)
    return fig


def effect_repertoire_information(subsystem, mechanism, purview):

    repertoire = pyphi.distribution.flatten(
        np.squeeze(subsystem.cause_repertoire(mechanism, purview))
    )

    direction = pyphi.direction.Direction.EFFECT
    cut_repertoire = pyphi.distribution.flatten(
        np.squeeze(
            subsystem.unconstrained_repertoire(
                direction,
                purview,
                ),
            )
        )
    purview_states = pyphi.utils.all_states(len(purview))

    # plotting first histogram
    fig = plt.figure()
    ax = fig.add_subplot(1, 1, 1)
    ax = plot_repertoire(ax, cut_repertoire, purview_states, stagger=0.1, color="gray")
    ax = plot_repertoire(ax, repertoire, purview_states, stagger=0.0)
    return fig


direction = pyphi.direction.Direction.CAUSE
candidate_mechanism = (0, 1)
candidate_purview = (0, 1)
candidate_purview_state = (0, 0)
candidate_cut = pyphi.partition.complete_partition(
    candidate_mechanism, candidate_purview
)

phi, partitioned_repertoire = subsystem.evaluate_partition(
    direction,
    candidate_mechanism,
    candidate_purview,
    candidate_cut,
    state=candidate_purview_state,
)
phi





list(pyphi.utils.powerset(subsystem.node_labels))


mechanism = (0,1)
purview = (0, 1)

fig = effect_repertoire_information(subsystem, mechanism, purview)



fig = effect_repertoire_integration(subsystem, mechanism, purview)




fig = cause_repertoire_information(subsystem, mechanism, purview)




fig = cause_repertoire_integration(subsystem, mechanism, purview)



# ch3 system creation
net_name = "space_3"

th = 1 / 4
exp = 5

s = 0.8
l = 0.26
f = 0.06
g = 0.0

weights = np.array(
    [
        [s, l, f],  # A
        [l, s, l],  # B
        [f, l, s],  # C
        # A, B, C, D,
    ]
)

# weights += np.random.random((6,6))/100
# weights = np.abs(weights)

node_labels = ["A", "B", "C"]
mech_func = [f for f in "ssss"]

network = ng.get_net(
    mech_func,
    weights,
    exp=exp,
    th=th,
    node_labels=node_labels,
    network_name=net_name,
    pickle_network=True,
)

state = (0, 0, 0)
subsystem = pyphi.Subsystem(network, state)

mechanisms = list(pyphi.utils.powerset(subsystem.node_indices, nonempty=True))
purviews = list(pyphi.utils.powerset(subsystem.node_indices, nonempty=True))






possible_input_elements = tuple(
    set(
        [
            elem
            for purview in subsystem.potential_purviews(
                pyphi.direction.Direction.CAUSE, mechanism, purviews=False
            )
            for elem in purview
        ]
    )
)

non_purviews = tuple(set(range(len(subsystem.node_labels))) - set(possible_input_elements) )
marginalized_tpm = pyphi.tpm.marginalize_out(non_mechanism,subsystem.network.tpm)[...,mechanism]


list(subsystem.tpm[(0,0,0,0)])


marginalized_tpm[(slice([:]),1,slice(:),0,slice(:))]


pyphi.convert.sbn2sbs(marginalized_tpm).shape


possible_input_elements


pyphi.convert.sbn2sbs(marginalized_tpm).shape


marginalized_tpm[...,mechanism]



def mechanism_tpm(subsystem,mechanism):
    
    # marginalizing out all non-mechanism elements
    
    # ignoring all past purview elements that do not input to the mechanism
    
    # flattening and constructing state-by-state tpm
    
    return mechanism_tpm


tpm = show_tpm(sbs, ["A", "B", "C"], ["A", "B", "C"], style="pandas")


tpm


pyphi.tpm.marginalize_out(








n = grid_1d_nearest_neighbor(n_nodes=6)


t = pyphi.convert.sbn2sbs(n.tpm)


t.shape


show_tpm(pyphi.convert.sbn2sbs(n.tpm),n.node_labels, n.node_labels, style="pandas")











from mpl_toolkits.axes_grid1 import make_axes_locatable

N = len(net)
states = list(pyphi.utils.all_states(N))

fig, ax = plt.subplots()
plt.rcParams["axes.grid"] = False

#plot the TPM
heatmap = ax.imshow(sbs,aspect='equal',cmap='gray_r')

# get colorbar
divider = make_axes_locatable(ax)
cax = divider.append_axes('right', size='5%', pad=0.15)
cb = fig.colorbar(heatmap, cax=cax, orientation='vertical')
cb.set_label('P(future|past)')

# put tick labels for future states on top axis
ax.xaxis.tick_top()

# label ticks with states
ax.set_xticks(np.arange(sbs.shape[1]), minor=False)
ax.set_yticks(np.arange(sbs.shape[0]), minor=False)
ax.set_xticklabels(states, minor=False,rotation=90)
ax.set_yticklabels(states, minor=False)

ax.set_ylabel('Past State')
ax.set_xlabel('Future State')

plt.show();


TPM.round(2).style.background_gradient(cmap='gray_r',low=0, high=1,axis=None).set_precision(2)


sns.heatmap(TPM,cmap="gray_r")


import pandas as pd


net.node_labels


columns = pd.MultiIndex.from_tuples(states,names=net.node_labels)
index = pd.MultiIndex.from_tuples(states,names=net.node_labels)

TPM = pd.DataFrame(sbs,
             index=index,
             columns=columns)





TPM






