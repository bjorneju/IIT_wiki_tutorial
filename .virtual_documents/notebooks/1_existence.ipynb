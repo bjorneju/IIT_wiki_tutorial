import pyphi
from tutorial_functions import visualization as viz
from tutorial_functions import utils
import numpy as np

get_ipython().run_line_magic("load_ext", " blackcellmagic")
get_ipython().run_line_magic("load_ext", " autoreload")

get_ipython().run_line_magic("matplotlib", " inline")
get_ipython().run_line_magic("autoreload", " 2")


# give names to the units
node_labels = ["A","B","C"]

# set the strength of connectivity between units
connectivity = np.array(
    [
        [-.2,0.7,0.2],
        [0.7,-.2,0.0],
        [0.0,-.8,0.2]        
    ]
)

# set the level of determinism for the units' activation function 
determinism = 4

# build the network
substrate = pyphi.network_generator.build_network(
    [pyphi.network_generator.ising.probability]*len(node_labels),
    connectivity,
    temperature=1/determinism,
    node_labels=node_labels
)

substrate.node_labels


current_state = (0,1,1)
utils.assess_existence(substrate, current_state)



# visualize the TPM in its state-by-state form
viz.substrate_state_by_state(substrate)


# select state transition to highlight
input_state = (1,1,0)
output_state = (1,1,1)

# Get the state-by-state TPM
TPM = utils.state_by_state_tpm(substrate)

# visualize it with the state transition probability highlighted
viz.highlight_transition_probability(TPM,input_state,output_state)


# Get probability 
P = TPM[output_state][input_state]

print('Probability of transitioning from {} to {} is {}'.format(
    input_state,output_state,P.round(3)
))


input_state = (1,1,0)
viz.constrained_repertoire(substrate, input_state);


TPM.sum(axis=1)


# set an input state for the substrate
input_state = (1,0,0)

# print the values stored in the pyphi tpm when we provide it with the input state
substrate.tpm[input_state]


input_state = (1,0,1)
output_state = (1,1,1)
P_from_units = utils.substrate_probability_from_unit_probabilities(substrate,input_state, output_state)
P_from_units


P = substrate.tpm[input_state]
P_A_on = P[0]
P_B_on = P[1]
P_C_on = P[2]

P_ABC_on_on_on = P_A_on*P_B_on*P_C_on
P_ABC_on_on_on



viz.highlight_transition_probability(TPM,input_state,output_state)



# choose some input and output states
input_state = (1,1,0)
output_state = (1,1,1)

# compute probaility of the ooutput state happening from both TPM representations
P_from_units = utils.substrate_probability_from_unit_probabilities(substrate, input_state, output_state)
P_from_statebystate = TPM[output_state][input_state]

# check if they are the same
print('P from units: {}, P from state-by-state: {}'.format(P_from_units.round(3),P_from_statebystate.round(3)))
print('Are they equal?: {}'.format(P_from_units == P_from_statebystate))


viz.substrate_state_by_node(substrate)


viz.unit_state_by_node(substrate,'B')


viz.unit_state_by_node(substrate,'C')


unit = 'C'
inputs = utils.possible_inputs(substrate, unit)
print('Unit {} appears to receive inputs from the following units: {}'.format(unit,inputs))


unit = 'C'
output_state = 0
unconstrained_probability = utils.unconstrained_unit_probability(substrate,unit,output_state)
print('The unconstrained probability of finding unit {} in state {} is: {}'.format(unit,output_state,unconstrained_probability))


# obtain the unit TPM
unit_tpm = utils.unit_state_by_state_tpm(substrate,unit)

# compute the average probability of finding the unit in the relevant state
explicit_unconstrained_probability = unit_tpm[output_state].mean()

print(
    'the unconstrained probability, found by averaging the unit TPM along the column with output state {} is: {}'
    .format(output_state,explicit_unconstrained_probability[output_state])
)
viz.tpm_probabilities(unit_tpm)


# define states
input_state = (0,1,0)
output_state = (1,1,0)
unit_output_state = {label: state for label,state in zip(substrate.node_labels, output_state)}

# compute probabilities
unconstrained_probabilities = {
    unit: utils.unconstrained_unit_probability(substrate,unit,output_state)
    for (unit, output_state) in unit_output_state.items()
}
constrained_probabilities = {
    unit: utils.constrained_unit_probability(substrate,unit,input_state,output_state)
    for (unit, output_state) in unit_output_state.items()
}

print('unconstrained probabilities: {}'.format(unconstrained_probabilities))
print('constrained probabilities: {}'.format(constrained_probabilities))


P_constrained_substrate_state = np.prod([p for p in constrained_probabilities.values()])
P_unconstrained_substrate_state = np.prod([p for p in unconstrained_probabilities.values()])

print(
    'For output state {} and input state {}, the constrained and unconstrained probabilities for the substrate is {} and {}, respectively.'
    .format(input_state,output_state,P_constrained_substrate_state,P_unconstrained_substrate_state)
)


input_state = (0,1,0)
output_state = (0,1,1)

P_constrained = utils.constrained_probability(substrate,output_state,input_state)
P_unconstrained = utils.unconstrained_probability(substrate,output_state)

print(
    'For output state {} and input state {}, the constrained and unconstrained probabilities for the substrate is {} and {}, respectively.'
    .format(input_state,output_state,P_constrained_substrate_state,P_unconstrained_substrate_state)
)


P_all_constrained = utils.all_constrained_probability(substrate)
P_all_unconstrained = utils.all_unconstrained_probability(substrate)


all(P_all_constrained.round(12)==TPM.round(12))


P_all_unconstrained


utils.unconstrained_repertoire(substrate)


input_state = (0,1,0)
utils.constrained_repertoire(substrate, input_state)


viz.repertoires(substrate,input_state);



# pick input and output states for a transition
input_state = (0,1,0)
output_state = (0,1,1)

# obtain constrained and unconstrained probabilities for the output state
P_constrained = utils.constrained_probability(substrate,output_state,input_state)
P_unconstrained = utils.unconstrained_probability(substrate,output_state)

# compute informativeness
informativeness = np.log2(P_constrained/P_unconstrained)

print('The informativeness of input state {} about output state {} is quantified as {}.'.format(input_state, output_state, informativeness))


TIM = utils.transition_informativeness_matrix(substrate)
viz.transition_informativeness_matrix(substrate)


# define the current state of the substrate
current_state = (0,1,1)

# compute the potential cause and effect states (ones that take a difference from, and make a difference, to the current substrate state)
potential_causes = utils.potential_causes(substrate,current_state,step='existence')
potential_effects = utils.potential_effects(substrate,current_state,step='existence')

# visualize the states in the matrix
viz.highlight_potential_causes_and_effects(TIM, current_state, potential_causes, potential_effects)


utils.assess_existence(substrate, current_state)

