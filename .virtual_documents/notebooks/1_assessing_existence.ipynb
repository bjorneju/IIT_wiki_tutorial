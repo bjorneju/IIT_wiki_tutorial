import pyphi
from tutorial_functions import visualization as viz
import numpy as np



get_ipython().run_line_magic("load_ext", " blackcellmagic")
get_ipython().run_line_magic("load_ext", " autoreload")

get_ipython().run_line_magic("matplotlib", " inline")
get_ipython().run_line_magic("autoreload", " 2")


# give names to the units
node_labels = ["A","B","C"]

# set the strength of connectivity between units
connectivity = np.array(
    [
        [-.2,0.7,0.2],
        [0.7,-.2,0.0],
        [0.0,-.8,0.2]        
    ]
)

# set the level of determinism for the units' activation function 
determinism = 4

# build the network
substrate = pyphi.network_generator.build_network(
    [pyphi.network_generator.ising.probability]*len(node_labels),
    connectivity,
    temperature=1/determinism,
    node_labels=node_labels
)



TPM = viz.network_tpm(substrate)
TPM.round(3)


input_state = (1,0,0)
output_state = (0,1,0)

viz.highlight_transition_probability(TPM,input_state,output_state)


P = TPM[input_state][output_state]
print('Probability of transitioning from {} to {} is {}'.format(
    input_state,output_state,P.round(3)
))


TPM.sum(axis=1)


TPM[input_state].plot.bar(
    ylabel='transition probability', 
    ylim=[0,1], 
    title='Transition probabilities constrained to the input state {}'.format(input_state)
);





# set an input state for the substrate
input_state = (1,0,0)

# print the values stored in the pyphi tpm when we provide it with the input state
substrate.tpm[input_state]


def substrate_probability_from_unit_probabilities(substrate,input_state, output_state):
    return np.prod([
        p if unit_output==1 else 1-p 
        for unit_output, p in zip(output_state,substrate.tpm[input_state])
    ])

input_state = (1,0,1)
output_state = (1,1,1)
P_from_units = substrate_probability_from_unit_probabilities(substrate,input_state, output_state)
P_from_units



viz.highlight_transition_probability(TPM,input_state,output_state)



# choose some input and output states
input_state = (1,1,1)
output_state = (1,1,1)

# compute probaility of the ooutput state happening from both TPM representations
P_from_units = substrate_probability_from_unit_probabilities(substrate,input_state, output_state)
P_from_statebystate = TPM[output_state][input_state]

# check if they are the same
P_from_units == P_from_statebystate








cell_hover = {  # for row hover use <tr> instead of <td>
    'selector': 'td:hover',
    'props': [('background-color', '#ffffb3')]
}
index_names = {
    'selector': '.index_name',
    'props': 'font-style: bold; color: darkgrey; font-weight:normal;'
}
headers = {
    'selector': 'th:not(.index_name)',
    'props': 'background-color: lightblue; color: black;'
}
TPM.style.set_table_styles([cell_hover, index_names, headers])
