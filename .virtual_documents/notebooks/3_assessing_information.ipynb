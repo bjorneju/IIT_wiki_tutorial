import pyphi
import tutorial_functions
import numpy as np


# give names to the units
node_labels = ["A","B","C"]

# set the strength of connectivity between units
connectivity = np.array(
    [
        [-.2,0.7,0.2],
        [0.7,-.2,0.0],
        [0.0,-.8,0.2]        
    ]
)

# set the level of determinism for the units' activation function 
determinism = 4

# build the network
network = pyphi.network_generator.build_network(
    [pyphi.network_generator.ising.probability]*len(node_labels),
    connectivity,
    temperature=1/determinism,
    node_labels=node_labels
)


# Isolate the candidate substrate by conditioning on all units not in the candidate substrate


# show examples of candidate cause and effect states


# Compute intrinsic information for some candidate states


# consider including examples of adding units to show the expansion dilution tradeoff


# Show how to pick the cause--effect state for our candidate substrate
