{
 "cells": [
  {
   "cell_type": "markdown",
   "id": "b23c22f7-1608-4c50-a100-f0539c9cd1b3",
   "metadata": {},
   "source": [
    "<img src=\"https://github.com/bjorneju/IIT_wiki_tutorial/blob/main/notebooks/figures/Intrinsicality.png?raw=true\" width=500/>"
   ]
  },
  {
   "cell_type": "markdown",
   "id": "295d4cd3-11cc-4f31-827c-d73c86609767",
   "metadata": {},
   "source": [
    "# Intrinsicality\n",
    "This second tutorial notebook delves deeper into what it means to \"apply intrinsicality\" in IIT. Following the first tutorial notebook, as well as introductions in the [postulate page]{link} and the [unfolding page]{link} of the IIT wiki, we will explore the following concepts:\n",
    "\n",
    "1. Causal conditioning (or pinning) the background conditions,\n",
    "2. Isolating a candidate substrate of consciousness,\n",
    "3. Computing selectivity,\n",
    "5. Adjusting causal power/informativeness of a substrate to make it intrinsic causal power for a candidate substrate of consciousness."
   ]
  },
  {
   "cell_type": "markdown",
   "id": "dbeb9790-c368-44d8-965a-e943b0ab1a48",
   "metadata": {},
   "source": [
    "## Import packages\n",
    "To get going, we need to import packages needed for our basic examples"
   ]
  },
  {
   "cell_type": "code",
   "execution_count": 3,
   "id": "2ba4286b-1d59-4495-8bfd-5342a1ccf8f1",
   "metadata": {
    "tags": []
   },
   "outputs": [],
   "source": [
    "import pyphi\n",
    "from tutorial_functions import visualization as viz\n",
    "from tutorial_functions import utils\n",
    "import numpy as np"
   ]
  },
  {
   "cell_type": "markdown",
   "id": "9793882c-9cff-46a4-b7a1-c4e3948a8282",
   "metadata": {},
   "source": [
    "## Initialize the substrate\n",
    "First, we recreate the substrate that was introduced in Existence notebook (and Fig. 1 of the IIT 4.0 article). As a reminder, the substrate is here assumed to be constituted by 3 units (labeled A, B, and C), interacting through excitatory and inhibitory connections."
   ]
  },
  {
   "cell_type": "code",
   "execution_count": 2,
   "id": "b67cd00a-90b5-4169-9b76-4f9b412e9f81",
   "metadata": {
    "tags": []
   },
   "outputs": [],
   "source": [
    "# give names to the units\n",
    "node_labels = [\"A\",\"B\",\"C\"]\n",
    "\n",
    "# set the strength of connectivity between units\n",
    "connectivity = np.array(\n",
    "    [\n",
    "        [-.2,0.7,0.2],\n",
    "        [0.7,-.2,0.0],\n",
    "        [0.0,-.8,0.2]        \n",
    "    ]\n",
    ")\n",
    "\n",
    "# set the level of determinism for the units' activation function \n",
    "determinism = 4\n",
    "\n",
    "# build the network\n",
    "network = pyphi.network_generator.build_network(\n",
    "    [pyphi.network_generator.ising.probability]*len(node_labels),\n",
    "    connectivity,\n",
    "    temperature=1/determinism,\n",
    "    node_labels=node_labels\n",
    ")"
   ]
  },
  {
   "cell_type": "markdown",
   "id": "367be8d8-6db6-4cb7-8629-332b1dde0b2b",
   "metadata": {
    "tags": []
   },
   "source": [
    "## The question: Does a candidate substrate satisfy the 1st postulate (intrinsicality)? \n",
    "1st postulate of IIT: The substrate of consciousness must have intrinsic cause–effect power:\n",
    "it must take and make a difference within itself.\n",
    "\n",
    "To answer this question we must check whether a particular candidate substrate has both cause and effect power within itself. "
   ]
  },
  {
   "cell_type": "code",
   "execution_count": null,
   "id": "5bc80518-134e-4149-b978-05d09282b7a9",
   "metadata": {},
   "outputs": [],
   "source": [
    "# run the assess_intrinsicality function\n"
   ]
  },
  {
   "cell_type": "markdown",
   "id": "ecaf8483-afd7-4539-a91a-26c676a5ad7a",
   "metadata": {
    "tags": []
   },
   "source": [
    "## Causal conditioning\n",
    "Together with causal marginalization, causal conditioning, is one of two ways of removing the causal influence of a (set of) unit(s) in a substrate. \n",
    "When we causally condition on a (set of) unit(s), we hold its state constant effectively removing its capacity to change. \n",
    "This makes it so that it no longer has any counterfactual states available to it.\n",
    "Thus, it can no longer be a difference that can make or take a difference---it is no longer \"a difference\" at all.\n",
    "\n",
    "Interestingly, causally conditioning on even a single unit in a substrate alters the powers of any unit that interacts with it. \n",
    "This is because the powers of a set of physical units depends on the probabilities of conterfactual states in all units it interacts with. \n",
    "Therefore, by removing the counterfactual states of a unit, we remove the capacity of any other unit to take a difference from it and make a difference to it. \n",
    "Thus, by conditioning on all units outside a candidate substrate of consciousness, we effectively restrict its remaining causal powers to be over itself. \n",
    "That is, any remaining differences made or taken by the candidate substrate of consciousness are made or taken by units within the substrate itself.\n",
    "This is a first requirement for making the power *intrinsic*."
   ]
  },
  {
   "cell_type": "markdown",
   "id": "ca4c727e-0f63-48db-af78-271c33575ef0",
   "metadata": {},
   "source": [
    "## Isolating a candidate substrate of consciousness\n",
    "Let's consider the subsystem AB as a candidate substrate of consciousness. \n",
    "This means that unit C will be outside the candidate substrate, and must be conditioned on, in order to isolate the intrinsic powers of AB.\n",
    "We see that unit C is in state 'ON'.\n",
    "So, we first need to find the TPM of the candidate substrate, AB, given that unit C is in its state."
   ]
  },
  {
   "cell_type": "code",
   "execution_count": 4,
   "id": "099a7ca7-fcf0-42ff-b238-319bbd6eeb1c",
   "metadata": {
    "tags": []
   },
   "outputs": [],
   "source": [
    "# show how to isolate the candidate and visualize the results"
   ]
  },
  {
   "cell_type": "code",
   "execution_count": null,
   "id": "c34265e7-8a9a-45cb-a878-edd6f32f1f2c",
   "metadata": {},
   "outputs": [],
   "source": []
  },
  {
   "cell_type": "code",
   "execution_count": null,
   "id": "a7658946-c0f3-47e8-bf29-cc68b5da69c7",
   "metadata": {},
   "outputs": [],
   "source": [
    "# visualize the subsystem TPM in its state-by-state form\n",
    "viz.substrate_state_by_state(substrate)"
   ]
  },
  {
   "cell_type": "markdown",
   "id": "ce5e6c91-a257-494a-aefb-109ffa5ed0ed",
   "metadata": {},
   "source": [
    "## Computing Selectivty\n",
    "Brief introduction with basic justification for selectivity"
   ]
  },
  {
   "cell_type": "code",
   "execution_count": 5,
   "id": "2ede84e6-79b5-471f-b524-9b69669b7f62",
   "metadata": {
    "tags": []
   },
   "outputs": [],
   "source": [
    "# compute selectivity for a few examples (include both cause and effect side)"
   ]
  },
  {
   "cell_type": "markdown",
   "id": "5e61702a-21f5-4c79-a128-c7c70eb0b9a4",
   "metadata": {},
   "source": [
    "## Obtaining the intrinsic power specified by a candidate substrate\n",
    "Basic introduction\n"
   ]
  },
  {
   "cell_type": "code",
   "execution_count": 6,
   "id": "3a9ef170-4eaf-498d-a842-9e1d448af735",
   "metadata": {
    "tags": []
   },
   "outputs": [],
   "source": [
    "# compute the intrinsic power for our candidate"
   ]
  },
  {
   "cell_type": "code",
   "execution_count": null,
   "id": "814aed32-b232-4956-811b-e2985e50a994",
   "metadata": {},
   "outputs": [],
   "source": []
  }
 ],
 "metadata": {
  "kernelspec": {
   "display_name": "Python 3 (ipykernel)",
   "language": "python",
   "name": "python3"
  },
  "language_info": {
   "codemirror_mode": {
    "name": "ipython",
    "version": 3
   },
   "file_extension": ".py",
   "mimetype": "text/x-python",
   "name": "python",
   "nbconvert_exporter": "python",
   "pygments_lexer": "ipython3",
   "version": "3.10.9"
  }
 },
 "nbformat": 4,
 "nbformat_minor": 5
}
