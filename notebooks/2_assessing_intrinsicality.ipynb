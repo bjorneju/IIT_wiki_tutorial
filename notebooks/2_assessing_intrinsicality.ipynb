{
 "cells": [
  {
   "cell_type": "markdown",
   "id": "295d4cd3-11cc-4f31-827c-d73c86609767",
   "metadata": {},
   "source": [
    "# Assing existence: a first step in isolating the complex\n",
    "In this notebook we will take a look at what it means to \"assess existence\" (or, perhaps more precisely \"assess causality\") in IIT. Following the introduction given of the [postulate](link) and on the [unfolding page](link), we will explore the following concepts:\n",
    "\n",
    "1) basic properties of the transition probability matrix (TPM)\n",
    "2) what is meant by conditional independence of the units \n",
    "3) how to obtain constrained and unconstrained probabilities from the TPM\n",
    "4) how to compute causal informativeness\n",
    "5) how we can use the causal informativeness to assess existence in its most basic form\n",
    "\n",
    "Let's go!"
   ]
  },
  {
   "cell_type": "markdown",
   "id": "dbeb9790-c368-44d8-965a-e943b0ab1a48",
   "metadata": {},
   "source": [
    "## Import packages\n",
    "The first thing to do is import the packages we will need"
   ]
  },
  {
   "cell_type": "code",
   "execution_count": 2,
   "id": "2ba4286b-1d59-4495-8bfd-5342a1ccf8f1",
   "metadata": {
    "tags": []
   },
   "outputs": [],
   "source": [
    "import pyphi\n",
    "import tutorial_functions\n",
    "import numpy as np"
   ]
  },
  {
   "cell_type": "markdown",
   "id": "9793882c-9cff-46a4-b7a1-c4e3948a8282",
   "metadata": {},
   "source": [
    "## Create the substrate\n",
    "Next, let's use the built-in functionality of pyphi to create the substrate from figure 1 of [the IIT 4.0 paper](https://arxiv.org/abs/2212.14787)"
   ]
  },
  {
   "cell_type": "code",
   "execution_count": 4,
   "id": "b67cd00a-90b5-4169-9b76-4f9b412e9f81",
   "metadata": {
    "tags": []
   },
   "outputs": [],
   "source": [
    "# give names to the units\n",
    "node_labels = [\"A\",\"B\",\"C\"]\n",
    "\n",
    "# set the strength of connectivity between units\n",
    "connectivity = np.array(\n",
    "    [\n",
    "        [-.2,0.7,0.2],\n",
    "        [0.7,-.2,0.0],\n",
    "        [0.0,-.8,0.2]        \n",
    "    ]\n",
    ")\n",
    "\n",
    "# set the level of determinism for the units' activation function \n",
    "determinism = 4\n",
    "\n",
    "# build the network\n",
    "network = pyphi.network_generator.build_network(\n",
    "    [pyphi.network_generator.ising.probability]*len(node_labels),\n",
    "    connectivity,\n",
    "    temperature=1/determinism,\n",
    "    node_labels=node_labels\n",
    ")\n"
   ]
  },
  {
   "cell_type": "code",
   "execution_count": null,
   "id": "ea4870c7-cccf-4011-b080-7762e7b62dee",
   "metadata": {},
   "outputs": [],
   "source": []
  }
 ],
 "metadata": {
  "kernelspec": {
   "display_name": "Python 3 (ipykernel)",
   "language": "python",
   "name": "python3"
  },
  "language_info": {
   "codemirror_mode": {
    "name": "ipython",
    "version": 3
   },
   "file_extension": ".py",
   "mimetype": "text/x-python",
   "name": "python",
   "nbconvert_exporter": "python",
   "pygments_lexer": "ipython3",
   "version": "3.10.9"
  }
 },
 "nbformat": 4,
 "nbformat_minor": 5
}
