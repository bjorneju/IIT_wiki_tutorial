{
 "cells": [
  {
   "cell_type": "markdown",
   "id": "a230f31e-0349-4742-9de0-498579e65f32",
   "metadata": {},
   "source": [
    "# Assing existence: a first step in isolating the complex\n",
    "In this notebook we will take a look at what it means to \"assess existence\" (or, perhaps more precisely \"assess causality\") in IIT. Following the introduction given of the [postulate](link) and on the [unfolding page](link), we will explore the following concepts:\n",
    "\n",
    "1) basic properties of the transition probability matrix (TPM)\n",
    "2) what is meant by conditional independence of the units \n",
    "3) how to obtain constrained and unconstrained probabilities from the TPM\n",
    "4) how to compute causal informativeness\n",
    "5) how we can use the causal informativeness to assess existence in its most basic form\n",
    "\n",
    "Let's go!"
   ]
  },
  {
   "cell_type": "markdown",
   "id": "4b9b3620-31c8-4418-8d8c-41b09b9b95e8",
   "metadata": {},
   "source": [
    "<img src=\"figures/Panel_1.jpg\" width=500/>"
   ]
  },
  {
   "cell_type": "markdown",
   "id": "bf201e19-e860-4b0e-9dbe-5e27fe197e7e",
   "metadata": {},
   "source": [
    "## Import packages\n",
    "The first thing to do is import the packages we will need"
   ]
  },
  {
   "cell_type": "code",
   "execution_count": 29,
   "id": "2b89ec94-66e5-44fe-beef-10c312c71750",
   "metadata": {
    "tags": []
   },
   "outputs": [],
   "source": [
    "import pyphi\n",
    "from tutorial_functions import visualization as viz\n",
    "from tutorial_functions import utils\n",
    "import numpy as np\n"
   ]
  },
  {
   "cell_type": "code",
   "execution_count": 4,
   "id": "0e1b31f2-efb8-48cb-89e7-a976a1065669",
   "metadata": {
    "tags": []
   },
   "outputs": [],
   "source": [
    "%load_ext blackcellmagic\n",
    "%load_ext autoreload\n",
    "\n",
    "%matplotlib inline\n",
    "%autoreload 2"
   ]
  },
  {
   "cell_type": "markdown",
   "id": "c9fa52bd-ff61-4615-b83e-cd6f0e26d517",
   "metadata": {},
   "source": [
    "## Create the substrate\n",
    "Next, let's use the built-in functionality of pyphi to create the substrate from figure 1 of [the IIT 4.0 paper](https://arxiv.org/abs/2212.14787)"
   ]
  },
  {
   "cell_type": "code",
   "execution_count": 5,
   "id": "1f5b3fc6-4560-49cf-81b3-4dec06b684ba",
   "metadata": {
    "tags": []
   },
   "outputs": [],
   "source": [
    "# give names to the units\n",
    "node_labels = [\"A\",\"B\",\"C\"]\n",
    "\n",
    "# set the strength of connectivity between units\n",
    "connectivity = np.array(\n",
    "    [\n",
    "        [-.2,0.7,0.2],\n",
    "        [0.7,-.2,0.0],\n",
    "        [0.0,-.8,0.2]        \n",
    "    ]\n",
    ")\n",
    "\n",
    "# set the level of determinism for the units' activation function \n",
    "determinism = 4\n",
    "\n",
    "# build the network\n",
    "substrate = pyphi.network_generator.build_network(\n",
    "    [pyphi.network_generator.ising.probability]*len(node_labels),\n",
    "    connectivity,\n",
    "    temperature=1/determinism,\n",
    "    node_labels=node_labels\n",
    ")\n"
   ]
  },
  {
   "cell_type": "markdown",
   "id": "0219c1d7-93dc-41bb-94c3-0e1c1d8bdce7",
   "metadata": {},
   "source": [
    "### Inspect the substrate TPM\n",
    "We can now simply inspect the TPM of the substrate and start exploring its properties"
   ]
  },
  {
   "cell_type": "code",
   "execution_count": 8,
   "id": "a320a3fc-0d8d-4601-985e-61e747ed67d9",
   "metadata": {
    "tags": []
   },
   "outputs": [
    {
     "data": {
      "text/html": [
       "<div>\n",
       "<style scoped>\n",
       "    .dataframe tbody tr th:only-of-type {\n",
       "        vertical-align: middle;\n",
       "    }\n",
       "\n",
       "    .dataframe tbody tr th {\n",
       "        vertical-align: top;\n",
       "    }\n",
       "\n",
       "    .dataframe thead tr th {\n",
       "        text-align: left;\n",
       "    }\n",
       "\n",
       "    .dataframe thead tr:last-of-type th {\n",
       "        text-align: right;\n",
       "    }\n",
       "</style>\n",
       "<table border=\"1\" class=\"dataframe\">\n",
       "  <thead>\n",
       "    <tr>\n",
       "      <th></th>\n",
       "      <th></th>\n",
       "      <th>A</th>\n",
       "      <th>0</th>\n",
       "      <th>1</th>\n",
       "      <th>0</th>\n",
       "      <th>1</th>\n",
       "      <th>0</th>\n",
       "      <th>1</th>\n",
       "      <th>0</th>\n",
       "      <th>1</th>\n",
       "    </tr>\n",
       "    <tr>\n",
       "      <th></th>\n",
       "      <th></th>\n",
       "      <th>B</th>\n",
       "      <th>0</th>\n",
       "      <th>0</th>\n",
       "      <th>1</th>\n",
       "      <th>1</th>\n",
       "      <th>0</th>\n",
       "      <th>0</th>\n",
       "      <th>1</th>\n",
       "      <th>1</th>\n",
       "    </tr>\n",
       "    <tr>\n",
       "      <th></th>\n",
       "      <th></th>\n",
       "      <th>C</th>\n",
       "      <th>0</th>\n",
       "      <th>0</th>\n",
       "      <th>0</th>\n",
       "      <th>0</th>\n",
       "      <th>1</th>\n",
       "      <th>1</th>\n",
       "      <th>1</th>\n",
       "      <th>1</th>\n",
       "    </tr>\n",
       "    <tr>\n",
       "      <th>A</th>\n",
       "      <th>B</th>\n",
       "      <th>C</th>\n",
       "      <th></th>\n",
       "      <th></th>\n",
       "      <th></th>\n",
       "      <th></th>\n",
       "      <th></th>\n",
       "      <th></th>\n",
       "      <th></th>\n",
       "      <th></th>\n",
       "    </tr>\n",
       "  </thead>\n",
       "  <tbody>\n",
       "    <tr>\n",
       "      <th>0</th>\n",
       "      <th>0</th>\n",
       "      <th>0</th>\n",
       "      <td>0.170</td>\n",
       "      <td>0.023</td>\n",
       "      <td>0.563</td>\n",
       "      <td>0.076</td>\n",
       "      <td>0.034</td>\n",
       "      <td>0.005</td>\n",
       "      <td>0.114</td>\n",
       "      <td>0.015</td>\n",
       "    </tr>\n",
       "    <tr>\n",
       "      <th>1</th>\n",
       "      <th>0</th>\n",
       "      <th>0</th>\n",
       "      <td>0.001</td>\n",
       "      <td>0.000</td>\n",
       "      <td>0.486</td>\n",
       "      <td>0.013</td>\n",
       "      <td>0.001</td>\n",
       "      <td>0.000</td>\n",
       "      <td>0.486</td>\n",
       "      <td>0.013</td>\n",
       "    </tr>\n",
       "    <tr>\n",
       "      <th>0</th>\n",
       "      <th>1</th>\n",
       "      <th>0</th>\n",
       "      <td>0.013</td>\n",
       "      <td>0.485</td>\n",
       "      <td>0.009</td>\n",
       "      <td>0.325</td>\n",
       "      <td>0.003</td>\n",
       "      <td>0.098</td>\n",
       "      <td>0.002</td>\n",
       "      <td>0.066</td>\n",
       "    </tr>\n",
       "    <tr>\n",
       "      <th>1</th>\n",
       "      <th>1</th>\n",
       "      <th>0</th>\n",
       "      <td>0.000</td>\n",
       "      <td>0.002</td>\n",
       "      <td>0.059</td>\n",
       "      <td>0.438</td>\n",
       "      <td>0.000</td>\n",
       "      <td>0.002</td>\n",
       "      <td>0.059</td>\n",
       "      <td>0.438</td>\n",
       "    </tr>\n",
       "    <tr>\n",
       "      <th>0</th>\n",
       "      <th>0</th>\n",
       "      <th>1</th>\n",
       "      <td>0.438</td>\n",
       "      <td>0.059</td>\n",
       "      <td>0.002</td>\n",
       "      <td>0.000</td>\n",
       "      <td>0.438</td>\n",
       "      <td>0.059</td>\n",
       "      <td>0.002</td>\n",
       "      <td>0.000</td>\n",
       "    </tr>\n",
       "    <tr>\n",
       "      <th>1</th>\n",
       "      <th>0</th>\n",
       "      <th>1</th>\n",
       "      <td>0.066</td>\n",
       "      <td>0.002</td>\n",
       "      <td>0.098</td>\n",
       "      <td>0.003</td>\n",
       "      <td>0.325</td>\n",
       "      <td>0.009</td>\n",
       "      <td>0.485</td>\n",
       "      <td>0.013</td>\n",
       "    </tr>\n",
       "    <tr>\n",
       "      <th>0</th>\n",
       "      <th>1</th>\n",
       "      <th>1</th>\n",
       "      <td>0.013</td>\n",
       "      <td>0.486</td>\n",
       "      <td>0.000</td>\n",
       "      <td>0.001</td>\n",
       "      <td>0.013</td>\n",
       "      <td>0.486</td>\n",
       "      <td>0.000</td>\n",
       "      <td>0.001</td>\n",
       "    </tr>\n",
       "    <tr>\n",
       "      <th>1</th>\n",
       "      <th>1</th>\n",
       "      <th>1</th>\n",
       "      <td>0.015</td>\n",
       "      <td>0.114</td>\n",
       "      <td>0.005</td>\n",
       "      <td>0.034</td>\n",
       "      <td>0.076</td>\n",
       "      <td>0.563</td>\n",
       "      <td>0.023</td>\n",
       "      <td>0.170</td>\n",
       "    </tr>\n",
       "  </tbody>\n",
       "</table>\n",
       "</div>"
      ],
      "text/plain": [
       "A          0      1      0      1      0      1      0      1\n",
       "B          0      0      1      1      0      0      1      1\n",
       "C          0      0      0      0      1      1      1      1\n",
       "A B C                                                        \n",
       "0 0 0  0.170  0.023  0.563  0.076  0.034  0.005  0.114  0.015\n",
       "1 0 0  0.001  0.000  0.486  0.013  0.001  0.000  0.486  0.013\n",
       "0 1 0  0.013  0.485  0.009  0.325  0.003  0.098  0.002  0.066\n",
       "1 1 0  0.000  0.002  0.059  0.438  0.000  0.002  0.059  0.438\n",
       "0 0 1  0.438  0.059  0.002  0.000  0.438  0.059  0.002  0.000\n",
       "1 0 1  0.066  0.002  0.098  0.003  0.325  0.009  0.485  0.013\n",
       "0 1 1  0.013  0.486  0.000  0.001  0.013  0.486  0.000  0.001\n",
       "1 1 1  0.015  0.114  0.005  0.034  0.076  0.563  0.023  0.170"
      ]
     },
     "execution_count": 8,
     "metadata": {},
     "output_type": "execute_result"
    }
   ],
   "source": [
    "TPM = viz.state_by_state_tpm(substrate)\n",
    "TPM.round(3)"
   ]
  },
  {
   "cell_type": "markdown",
   "id": "c81cea70-a4f7-415f-b443-ffc218dc0387",
   "metadata": {},
   "source": [
    "---\n",
    "Each of these numbers indicate the probability that the substrate will transition from an input state (left) to an output state (top).\n",
    "\n",
    "For example, we can see that the substrate has about a 50% probability of transitioning to (0,1,0) if it was in state (1,0,0)."
   ]
  },
  {
   "cell_type": "code",
   "execution_count": 9,
   "id": "2d727149-44ba-4cbf-9199-c5eeb5c4df6f",
   "metadata": {
    "tags": []
   },
   "outputs": [
    {
     "data": {
      "text/html": [
       "<style type=\"text/css\">\n",
       "#T_028ab_row1_col2 {\n",
       "  background-color: lightblue;\n",
       "}\n",
       "</style>\n",
       "<table id=\"T_028ab\">\n",
       "  <thead>\n",
       "    <tr>\n",
       "      <th class=\"blank\" >&nbsp;</th>\n",
       "      <th class=\"blank\" >&nbsp;</th>\n",
       "      <th class=\"index_name level0\" >A</th>\n",
       "      <th id=\"T_028ab_level0_col0\" class=\"col_heading level0 col0\" >0</th>\n",
       "      <th id=\"T_028ab_level0_col1\" class=\"col_heading level0 col1\" >1</th>\n",
       "      <th id=\"T_028ab_level0_col2\" class=\"col_heading level0 col2\" >0</th>\n",
       "      <th id=\"T_028ab_level0_col3\" class=\"col_heading level0 col3\" >1</th>\n",
       "      <th id=\"T_028ab_level0_col4\" class=\"col_heading level0 col4\" >0</th>\n",
       "      <th id=\"T_028ab_level0_col5\" class=\"col_heading level0 col5\" >1</th>\n",
       "      <th id=\"T_028ab_level0_col6\" class=\"col_heading level0 col6\" >0</th>\n",
       "      <th id=\"T_028ab_level0_col7\" class=\"col_heading level0 col7\" >1</th>\n",
       "    </tr>\n",
       "    <tr>\n",
       "      <th class=\"blank\" >&nbsp;</th>\n",
       "      <th class=\"blank\" >&nbsp;</th>\n",
       "      <th class=\"index_name level1\" >B</th>\n",
       "      <th id=\"T_028ab_level1_col0\" class=\"col_heading level1 col0\" >0</th>\n",
       "      <th id=\"T_028ab_level1_col1\" class=\"col_heading level1 col1\" >0</th>\n",
       "      <th id=\"T_028ab_level1_col2\" class=\"col_heading level1 col2\" >1</th>\n",
       "      <th id=\"T_028ab_level1_col3\" class=\"col_heading level1 col3\" >1</th>\n",
       "      <th id=\"T_028ab_level1_col4\" class=\"col_heading level1 col4\" >0</th>\n",
       "      <th id=\"T_028ab_level1_col5\" class=\"col_heading level1 col5\" >0</th>\n",
       "      <th id=\"T_028ab_level1_col6\" class=\"col_heading level1 col6\" >1</th>\n",
       "      <th id=\"T_028ab_level1_col7\" class=\"col_heading level1 col7\" >1</th>\n",
       "    </tr>\n",
       "    <tr>\n",
       "      <th class=\"blank\" >&nbsp;</th>\n",
       "      <th class=\"blank\" >&nbsp;</th>\n",
       "      <th class=\"index_name level2\" >C</th>\n",
       "      <th id=\"T_028ab_level2_col0\" class=\"col_heading level2 col0\" >0</th>\n",
       "      <th id=\"T_028ab_level2_col1\" class=\"col_heading level2 col1\" >0</th>\n",
       "      <th id=\"T_028ab_level2_col2\" class=\"col_heading level2 col2\" >0</th>\n",
       "      <th id=\"T_028ab_level2_col3\" class=\"col_heading level2 col3\" >0</th>\n",
       "      <th id=\"T_028ab_level2_col4\" class=\"col_heading level2 col4\" >1</th>\n",
       "      <th id=\"T_028ab_level2_col5\" class=\"col_heading level2 col5\" >1</th>\n",
       "      <th id=\"T_028ab_level2_col6\" class=\"col_heading level2 col6\" >1</th>\n",
       "      <th id=\"T_028ab_level2_col7\" class=\"col_heading level2 col7\" >1</th>\n",
       "    </tr>\n",
       "    <tr>\n",
       "      <th class=\"index_name level0\" >A</th>\n",
       "      <th class=\"index_name level1\" >B</th>\n",
       "      <th class=\"index_name level2\" >C</th>\n",
       "      <th class=\"blank col0\" >&nbsp;</th>\n",
       "      <th class=\"blank col1\" >&nbsp;</th>\n",
       "      <th class=\"blank col2\" >&nbsp;</th>\n",
       "      <th class=\"blank col3\" >&nbsp;</th>\n",
       "      <th class=\"blank col4\" >&nbsp;</th>\n",
       "      <th class=\"blank col5\" >&nbsp;</th>\n",
       "      <th class=\"blank col6\" >&nbsp;</th>\n",
       "      <th class=\"blank col7\" >&nbsp;</th>\n",
       "    </tr>\n",
       "  </thead>\n",
       "  <tbody>\n",
       "    <tr>\n",
       "      <th id=\"T_028ab_level0_row0\" class=\"row_heading level0 row0\" >0</th>\n",
       "      <th id=\"T_028ab_level1_row0\" class=\"row_heading level1 row0\" >0</th>\n",
       "      <th id=\"T_028ab_level2_row0\" class=\"row_heading level2 row0\" >0</th>\n",
       "      <td id=\"T_028ab_row0_col0\" class=\"data row0 col0\" >0.169634</td>\n",
       "      <td id=\"T_028ab_row0_col1\" class=\"data row0 col1\" >0.022957</td>\n",
       "      <td id=\"T_028ab_row0_col2\" class=\"data row0 col2\" >0.563205</td>\n",
       "      <td id=\"T_028ab_row0_col3\" class=\"data row0 col3\" >0.076222</td>\n",
       "      <td id=\"T_028ab_row0_col4\" class=\"data row0 col4\" >0.034249</td>\n",
       "      <td id=\"T_028ab_row0_col5\" class=\"data row0 col5\" >0.004635</td>\n",
       "      <td id=\"T_028ab_row0_col6\" class=\"data row0 col6\" >0.113709</td>\n",
       "      <td id=\"T_028ab_row0_col7\" class=\"data row0 col7\" >0.015389</td>\n",
       "    </tr>\n",
       "    <tr>\n",
       "      <th id=\"T_028ab_level0_row1\" class=\"row_heading level0 row1\" >1</th>\n",
       "      <th id=\"T_028ab_level1_row1\" class=\"row_heading level1 row1\" >0</th>\n",
       "      <th id=\"T_028ab_level2_row1\" class=\"row_heading level2 row1\" >0</th>\n",
       "      <td id=\"T_028ab_row1_col0\" class=\"data row1 col0\" >0.000541</td>\n",
       "      <td id=\"T_028ab_row1_col1\" class=\"data row1 col1\" >0.000015</td>\n",
       "      <td id=\"T_028ab_row1_col2\" class=\"data row1 col2\" >0.486160</td>\n",
       "      <td id=\"T_028ab_row1_col3\" class=\"data row1 col3\" >0.013284</td>\n",
       "      <td id=\"T_028ab_row1_col4\" class=\"data row1 col4\" >0.000541</td>\n",
       "      <td id=\"T_028ab_row1_col5\" class=\"data row1 col5\" >0.000015</td>\n",
       "      <td id=\"T_028ab_row1_col6\" class=\"data row1 col6\" >0.486160</td>\n",
       "      <td id=\"T_028ab_row1_col7\" class=\"data row1 col7\" >0.013284</td>\n",
       "    </tr>\n",
       "    <tr>\n",
       "      <th id=\"T_028ab_level0_row2\" class=\"row_heading level0 row2\" >0</th>\n",
       "      <th id=\"T_028ab_level1_row2\" class=\"row_heading level1 row2\" >1</th>\n",
       "      <th id=\"T_028ab_level2_row2\" class=\"row_heading level2 row2\" >0</th>\n",
       "      <td id=\"T_028ab_row2_col0\" class=\"data row2 col0\" >0.013248</td>\n",
       "      <td id=\"T_028ab_row2_col1\" class=\"data row2 col1\" >0.484871</td>\n",
       "      <td id=\"T_028ab_row2_col2\" class=\"data row2 col2\" >0.008881</td>\n",
       "      <td id=\"T_028ab_row2_col3\" class=\"data row2 col3\" >0.325019</td>\n",
       "      <td id=\"T_028ab_row2_col4\" class=\"data row2 col4\" >0.002675</td>\n",
       "      <td id=\"T_028ab_row2_col5\" class=\"data row2 col5\" >0.097894</td>\n",
       "      <td id=\"T_028ab_row2_col6\" class=\"data row2 col6\" >0.001793</td>\n",
       "      <td id=\"T_028ab_row2_col7\" class=\"data row2 col7\" >0.065620</td>\n",
       "    </tr>\n",
       "    <tr>\n",
       "      <th id=\"T_028ab_level0_row3\" class=\"row_heading level0 row3\" >1</th>\n",
       "      <th id=\"T_028ab_level1_row3\" class=\"row_heading level1 row3\" >1</th>\n",
       "      <th id=\"T_028ab_level2_row3\" class=\"row_heading level2 row3\" >0</th>\n",
       "      <td id=\"T_028ab_row3_col0\" class=\"data row3 col0\" >0.000327</td>\n",
       "      <td id=\"T_028ab_row3_col1\" class=\"data row3 col1\" >0.002416</td>\n",
       "      <td id=\"T_028ab_row3_col2\" class=\"data row3 col2\" >0.059274</td>\n",
       "      <td id=\"T_028ab_row3_col3\" class=\"data row3 col3\" >0.437982</td>\n",
       "      <td id=\"T_028ab_row3_col4\" class=\"data row3 col4\" >0.000327</td>\n",
       "      <td id=\"T_028ab_row3_col5\" class=\"data row3 col5\" >0.002416</td>\n",
       "      <td id=\"T_028ab_row3_col6\" class=\"data row3 col6\" >0.059274</td>\n",
       "      <td id=\"T_028ab_row3_col7\" class=\"data row3 col7\" >0.437982</td>\n",
       "    </tr>\n",
       "    <tr>\n",
       "      <th id=\"T_028ab_level0_row4\" class=\"row_heading level0 row4\" >0</th>\n",
       "      <th id=\"T_028ab_level1_row4\" class=\"row_heading level1 row4\" >0</th>\n",
       "      <th id=\"T_028ab_level2_row4\" class=\"row_heading level2 row4\" >1</th>\n",
       "      <td id=\"T_028ab_row4_col0\" class=\"data row4 col0\" >0.437982</td>\n",
       "      <td id=\"T_028ab_row4_col1\" class=\"data row4 col1\" >0.059274</td>\n",
       "      <td id=\"T_028ab_row4_col2\" class=\"data row4 col2\" >0.002416</td>\n",
       "      <td id=\"T_028ab_row4_col3\" class=\"data row4 col3\" >0.000327</td>\n",
       "      <td id=\"T_028ab_row4_col4\" class=\"data row4 col4\" >0.437982</td>\n",
       "      <td id=\"T_028ab_row4_col5\" class=\"data row4 col5\" >0.059274</td>\n",
       "      <td id=\"T_028ab_row4_col6\" class=\"data row4 col6\" >0.002416</td>\n",
       "      <td id=\"T_028ab_row4_col7\" class=\"data row4 col7\" >0.000327</td>\n",
       "    </tr>\n",
       "    <tr>\n",
       "      <th id=\"T_028ab_level0_row5\" class=\"row_heading level0 row5\" >1</th>\n",
       "      <th id=\"T_028ab_level1_row5\" class=\"row_heading level1 row5\" >0</th>\n",
       "      <th id=\"T_028ab_level2_row5\" class=\"row_heading level2 row5\" >1</th>\n",
       "      <td id=\"T_028ab_row5_col0\" class=\"data row5 col0\" >0.065620</td>\n",
       "      <td id=\"T_028ab_row5_col1\" class=\"data row5 col1\" >0.001793</td>\n",
       "      <td id=\"T_028ab_row5_col2\" class=\"data row5 col2\" >0.097894</td>\n",
       "      <td id=\"T_028ab_row5_col3\" class=\"data row5 col3\" >0.002675</td>\n",
       "      <td id=\"T_028ab_row5_col4\" class=\"data row5 col4\" >0.325019</td>\n",
       "      <td id=\"T_028ab_row5_col5\" class=\"data row5 col5\" >0.008881</td>\n",
       "      <td id=\"T_028ab_row5_col6\" class=\"data row5 col6\" >0.484871</td>\n",
       "      <td id=\"T_028ab_row5_col7\" class=\"data row5 col7\" >0.013248</td>\n",
       "    </tr>\n",
       "    <tr>\n",
       "      <th id=\"T_028ab_level0_row6\" class=\"row_heading level0 row6\" >0</th>\n",
       "      <th id=\"T_028ab_level1_row6\" class=\"row_heading level1 row6\" >1</th>\n",
       "      <th id=\"T_028ab_level2_row6\" class=\"row_heading level2 row6\" >1</th>\n",
       "      <td id=\"T_028ab_row6_col0\" class=\"data row6 col0\" >0.013284</td>\n",
       "      <td id=\"T_028ab_row6_col1\" class=\"data row6 col1\" >0.486160</td>\n",
       "      <td id=\"T_028ab_row6_col2\" class=\"data row6 col2\" >0.000015</td>\n",
       "      <td id=\"T_028ab_row6_col3\" class=\"data row6 col3\" >0.000541</td>\n",
       "      <td id=\"T_028ab_row6_col4\" class=\"data row6 col4\" >0.013284</td>\n",
       "      <td id=\"T_028ab_row6_col5\" class=\"data row6 col5\" >0.486160</td>\n",
       "      <td id=\"T_028ab_row6_col6\" class=\"data row6 col6\" >0.000015</td>\n",
       "      <td id=\"T_028ab_row6_col7\" class=\"data row6 col7\" >0.000541</td>\n",
       "    </tr>\n",
       "    <tr>\n",
       "      <th id=\"T_028ab_level0_row7\" class=\"row_heading level0 row7\" >1</th>\n",
       "      <th id=\"T_028ab_level1_row7\" class=\"row_heading level1 row7\" >1</th>\n",
       "      <th id=\"T_028ab_level2_row7\" class=\"row_heading level2 row7\" >1</th>\n",
       "      <td id=\"T_028ab_row7_col0\" class=\"data row7 col0\" >0.015389</td>\n",
       "      <td id=\"T_028ab_row7_col1\" class=\"data row7 col1\" >0.113709</td>\n",
       "      <td id=\"T_028ab_row7_col2\" class=\"data row7 col2\" >0.004635</td>\n",
       "      <td id=\"T_028ab_row7_col3\" class=\"data row7 col3\" >0.034249</td>\n",
       "      <td id=\"T_028ab_row7_col4\" class=\"data row7 col4\" >0.076222</td>\n",
       "      <td id=\"T_028ab_row7_col5\" class=\"data row7 col5\" >0.563205</td>\n",
       "      <td id=\"T_028ab_row7_col6\" class=\"data row7 col6\" >0.022957</td>\n",
       "      <td id=\"T_028ab_row7_col7\" class=\"data row7 col7\" >0.169634</td>\n",
       "    </tr>\n",
       "  </tbody>\n",
       "</table>\n"
      ],
      "text/plain": [
       "<pandas.io.formats.style.Styler at 0x7fd2b94331f0>"
      ]
     },
     "execution_count": 9,
     "metadata": {},
     "output_type": "execute_result"
    }
   ],
   "source": [
    "input_state = (1,0,0)\n",
    "output_state = (0,1,0)\n",
    "\n",
    "viz.highlight_transition_probability(TPM,input_state,output_state)"
   ]
  },
  {
   "cell_type": "markdown",
   "id": "84d40337-0f37-44c2-9008-be509081be83",
   "metadata": {},
   "source": [
    "We can also get at this conditional probability, by indexing into TPM directly"
   ]
  },
  {
   "cell_type": "code",
   "execution_count": 10,
   "id": "13d61e21-d842-42f0-ae7f-94ff040acf6f",
   "metadata": {
    "tags": []
   },
   "outputs": [
    {
     "name": "stdout",
     "output_type": "stream",
     "text": [
      "Probability of transitioning from (1, 0, 0) to (0, 1, 0) is 0.485\n"
     ]
    }
   ],
   "source": [
    "P = TPM[input_state][output_state]\n",
    "print('Probability of transitioning from {} to {} is {}'.format(\n",
    "    input_state,output_state,P.round(3)\n",
    "))"
   ]
  },
  {
   "cell_type": "markdown",
   "id": "6b4562c1-0eaf-4879-8947-cd68943b548e",
   "metadata": {},
   "source": [
    "You may notice that the TPM is normalized such that each row sums to exactly 1. This is because the substrate will necessarily transition to *some* state, whatever its starting point (input state) might be. In other words, the substrate has a 100% chance of transitioning to one of its available output states. "
   ]
  },
  {
   "cell_type": "code",
   "execution_count": 11,
   "id": "6886f492-b7b1-4a46-9532-a62d98cecc36",
   "metadata": {
    "tags": []
   },
   "outputs": [
    {
     "data": {
      "text/plain": [
       "A  B  C\n",
       "0  0  0    1.0\n",
       "1  0  0    1.0\n",
       "0  1  0    1.0\n",
       "1  1  0    1.0\n",
       "0  0  1    1.0\n",
       "1  0  1    1.0\n",
       "0  1  1    1.0\n",
       "1  1  1    1.0\n",
       "dtype: float64"
      ]
     },
     "execution_count": 11,
     "metadata": {},
     "output_type": "execute_result"
    }
   ],
   "source": [
    "TPM.sum(axis=1)"
   ]
  },
  {
   "cell_type": "markdown",
   "id": "98d9e80c-0b30-4e11-8d67-7fae8cee41e3",
   "metadata": {},
   "source": [
    "Given the input state, the way the probabilities are distributed across the possible output states can be visualized by a bar chart:"
   ]
  },
  {
   "cell_type": "code",
   "execution_count": 12,
   "id": "aa99f585-fb70-492d-8e14-5ad14ee9a082",
   "metadata": {
    "tags": []
   },
   "outputs": [
    {
     "data": {
      "image/png": "[encoded data removed]",
      "text/plain": [
       "<Figure size 640x480 with 1 Axes>"
      ]
     },
     "metadata": {},
     "output_type": "display_data"
    }
   ],
   "source": [
    "TPM[input_state].plot.bar(\n",
    "    ylabel='transition probability', \n",
    "    ylim=[0,1], \n",
    "    title='Transition probabilities constrained to the input state {}'.format(input_state)\n",
    ");"
   ]
  },
  {
   "cell_type": "markdown",
   "id": "a0e97297-ee01-49ed-8d05-72c6f824a8bb",
   "metadata": {
    "tags": []
   },
   "source": [
    "We often refer to the conditional probabilities in the TPM as the *constrained probabilities*. This is because they indicate the probability of seeing a particular output state next, given (or constrained to the knowledge) that the input state was what it was. This is to contrast it to the *un*constrained probabilities (which we will see later), that tell us about the probabilities of observing some outputstate independently of what the input state was.  "
   ]
  },
  {
   "cell_type": "code",
   "execution_count": null,
   "id": "6c19d40f-88ac-49f7-81d2-1f20c8e5af6b",
   "metadata": {},
   "outputs": [],
   "source": []
  },
  {
   "cell_type": "markdown",
   "id": "0661bbf1-8113-4d74-b1d6-e587bd749311",
   "metadata": {},
   "source": [
    "## Conditional independence\n",
    "While it might seem natural to look at this square \"state-by-state\" representation of the TPM, it hides a crucial fact about TPMs in IIT: the units are conditionally independent! This means that, given the knowledge of what the input state of a substrate was, the output state of each unit is *independent* of the output state of the other units. \n",
    "\n",
    "Lets explore this fact with the inbuilt functionality of pyphi."
   ]
  },
  {
   "cell_type": "code",
   "execution_count": 13,
   "id": "3c413789-6188-4547-99df-38354211c145",
   "metadata": {
    "tags": []
   },
   "outputs": [
    {
     "data": {
      "text/plain": [
       "ExplicitTPM([0.02659699 0.99888746 0.5       ])"
      ]
     },
     "execution_count": 13,
     "metadata": {},
     "output_type": "execute_result"
    }
   ],
   "source": [
    "# set an input state for the substrate\n",
    "input_state = (1,0,0)\n",
    "\n",
    "# print the values stored in the pyphi tpm when we provide it with the input state\n",
    "substrate.tpm[input_state]"
   ]
  },
  {
   "cell_type": "markdown",
   "id": "1eb71858-b983-4a4a-b738-054c9a84bd1a",
   "metadata": {},
   "source": [
    "These numbers just represent the probability of each of the three units (A, B and C) bein ON in the output state. For example, unit A (represented by the first number) is almost guaranteed to be OFF (because P(ON)=0.027, and P(OFF)=1-P(ON)). Similarly, unit B is almost guaranteed to be ON, and unit C is completely undetermined: it is 50/50 whether it turns ON or OFF. \n",
    "Thus, we can see that all three units are indeterministic (none of the values are exactly 0 or 1), and while it is not explicit in the numbers, there is no dependence between what state unit A (first number) happens to take on and which state the other units will take on; each unit will just update according to their own probability. \n",
    "---\n",
    "Furthermore, you might notice that we can derive the exact probabilities we saw in the previous \"state-by-state\"-representation of the TPM by using multiplication of these probabilities. For example, the probability of the substrate's overall output state is ON, ON, ON is just equal to the product of the three probabilities above. This is a direct consequence of the conditional independence."
   ]
  },
  {
   "cell_type": "code",
   "execution_count": 14,
   "id": "8ae1378e-aadd-4d47-a0dd-de88873fc625",
   "metadata": {
    "tags": []
   },
   "outputs": [
    {
     "data": {
      "text/plain": [
       "0.01324847157151889"
      ]
     },
     "execution_count": 14,
     "metadata": {},
     "output_type": "execute_result"
    }
   ],
   "source": [
    "def substrate_probability_from_unit_probabilities(substrate,input_state, output_state):\n",
    "    return np.prod([\n",
    "        p if unit_output==1 else 1-p \n",
    "        for unit_output, p in zip(output_state,substrate.tpm[input_state])\n",
    "    ])\n",
    "\n",
    "input_state = (1,0,1)\n",
    "output_state = (1,1,1)\n",
    "P_from_units = substrate_probability_from_unit_probabilities(substrate,input_state, output_state)\n",
    "P_from_units"
   ]
  },
  {
   "cell_type": "markdown",
   "id": "61330706-bad7-4ee7-8943-fb419943e955",
   "metadata": {},
   "source": [
    "Compare this probability to the one we have from the state-by-state TPM"
   ]
  },
  {
   "cell_type": "code",
   "execution_count": 15,
   "id": "ca94fab8-f27d-4987-af53-c47a7fffb06c",
   "metadata": {
    "tags": []
   },
   "outputs": [
    {
     "data": {
      "text/html": [
       "<style type=\"text/css\">\n",
       "#T_d3537_row5_col7 {\n",
       "  background-color: lightblue;\n",
       "}\n",
       "</style>\n",
       "<table id=\"T_d3537\">\n",
       "  <thead>\n",
       "    <tr>\n",
       "      <th class=\"blank\" >&nbsp;</th>\n",
       "      <th class=\"blank\" >&nbsp;</th>\n",
       "      <th class=\"index_name level0\" >A</th>\n",
       "      <th id=\"T_d3537_level0_col0\" class=\"col_heading level0 col0\" >0</th>\n",
       "      <th id=\"T_d3537_level0_col1\" class=\"col_heading level0 col1\" >1</th>\n",
       "      <th id=\"T_d3537_level0_col2\" class=\"col_heading level0 col2\" >0</th>\n",
       "      <th id=\"T_d3537_level0_col3\" class=\"col_heading level0 col3\" >1</th>\n",
       "      <th id=\"T_d3537_level0_col4\" class=\"col_heading level0 col4\" >0</th>\n",
       "      <th id=\"T_d3537_level0_col5\" class=\"col_heading level0 col5\" >1</th>\n",
       "      <th id=\"T_d3537_level0_col6\" class=\"col_heading level0 col6\" >0</th>\n",
       "      <th id=\"T_d3537_level0_col7\" class=\"col_heading level0 col7\" >1</th>\n",
       "    </tr>\n",
       "    <tr>\n",
       "      <th class=\"blank\" >&nbsp;</th>\n",
       "      <th class=\"blank\" >&nbsp;</th>\n",
       "      <th class=\"index_name level1\" >B</th>\n",
       "      <th id=\"T_d3537_level1_col0\" class=\"col_heading level1 col0\" >0</th>\n",
       "      <th id=\"T_d3537_level1_col1\" class=\"col_heading level1 col1\" >0</th>\n",
       "      <th id=\"T_d3537_level1_col2\" class=\"col_heading level1 col2\" >1</th>\n",
       "      <th id=\"T_d3537_level1_col3\" class=\"col_heading level1 col3\" >1</th>\n",
       "      <th id=\"T_d3537_level1_col4\" class=\"col_heading level1 col4\" >0</th>\n",
       "      <th id=\"T_d3537_level1_col5\" class=\"col_heading level1 col5\" >0</th>\n",
       "      <th id=\"T_d3537_level1_col6\" class=\"col_heading level1 col6\" >1</th>\n",
       "      <th id=\"T_d3537_level1_col7\" class=\"col_heading level1 col7\" >1</th>\n",
       "    </tr>\n",
       "    <tr>\n",
       "      <th class=\"blank\" >&nbsp;</th>\n",
       "      <th class=\"blank\" >&nbsp;</th>\n",
       "      <th class=\"index_name level2\" >C</th>\n",
       "      <th id=\"T_d3537_level2_col0\" class=\"col_heading level2 col0\" >0</th>\n",
       "      <th id=\"T_d3537_level2_col1\" class=\"col_heading level2 col1\" >0</th>\n",
       "      <th id=\"T_d3537_level2_col2\" class=\"col_heading level2 col2\" >0</th>\n",
       "      <th id=\"T_d3537_level2_col3\" class=\"col_heading level2 col3\" >0</th>\n",
       "      <th id=\"T_d3537_level2_col4\" class=\"col_heading level2 col4\" >1</th>\n",
       "      <th id=\"T_d3537_level2_col5\" class=\"col_heading level2 col5\" >1</th>\n",
       "      <th id=\"T_d3537_level2_col6\" class=\"col_heading level2 col6\" >1</th>\n",
       "      <th id=\"T_d3537_level2_col7\" class=\"col_heading level2 col7\" >1</th>\n",
       "    </tr>\n",
       "    <tr>\n",
       "      <th class=\"index_name level0\" >A</th>\n",
       "      <th class=\"index_name level1\" >B</th>\n",
       "      <th class=\"index_name level2\" >C</th>\n",
       "      <th class=\"blank col0\" >&nbsp;</th>\n",
       "      <th class=\"blank col1\" >&nbsp;</th>\n",
       "      <th class=\"blank col2\" >&nbsp;</th>\n",
       "      <th class=\"blank col3\" >&nbsp;</th>\n",
       "      <th class=\"blank col4\" >&nbsp;</th>\n",
       "      <th class=\"blank col5\" >&nbsp;</th>\n",
       "      <th class=\"blank col6\" >&nbsp;</th>\n",
       "      <th class=\"blank col7\" >&nbsp;</th>\n",
       "    </tr>\n",
       "  </thead>\n",
       "  <tbody>\n",
       "    <tr>\n",
       "      <th id=\"T_d3537_level0_row0\" class=\"row_heading level0 row0\" >0</th>\n",
       "      <th id=\"T_d3537_level1_row0\" class=\"row_heading level1 row0\" >0</th>\n",
       "      <th id=\"T_d3537_level2_row0\" class=\"row_heading level2 row0\" >0</th>\n",
       "      <td id=\"T_d3537_row0_col0\" class=\"data row0 col0\" >0.169634</td>\n",
       "      <td id=\"T_d3537_row0_col1\" class=\"data row0 col1\" >0.022957</td>\n",
       "      <td id=\"T_d3537_row0_col2\" class=\"data row0 col2\" >0.563205</td>\n",
       "      <td id=\"T_d3537_row0_col3\" class=\"data row0 col3\" >0.076222</td>\n",
       "      <td id=\"T_d3537_row0_col4\" class=\"data row0 col4\" >0.034249</td>\n",
       "      <td id=\"T_d3537_row0_col5\" class=\"data row0 col5\" >0.004635</td>\n",
       "      <td id=\"T_d3537_row0_col6\" class=\"data row0 col6\" >0.113709</td>\n",
       "      <td id=\"T_d3537_row0_col7\" class=\"data row0 col7\" >0.015389</td>\n",
       "    </tr>\n",
       "    <tr>\n",
       "      <th id=\"T_d3537_level0_row1\" class=\"row_heading level0 row1\" >1</th>\n",
       "      <th id=\"T_d3537_level1_row1\" class=\"row_heading level1 row1\" >0</th>\n",
       "      <th id=\"T_d3537_level2_row1\" class=\"row_heading level2 row1\" >0</th>\n",
       "      <td id=\"T_d3537_row1_col0\" class=\"data row1 col0\" >0.000541</td>\n",
       "      <td id=\"T_d3537_row1_col1\" class=\"data row1 col1\" >0.000015</td>\n",
       "      <td id=\"T_d3537_row1_col2\" class=\"data row1 col2\" >0.486160</td>\n",
       "      <td id=\"T_d3537_row1_col3\" class=\"data row1 col3\" >0.013284</td>\n",
       "      <td id=\"T_d3537_row1_col4\" class=\"data row1 col4\" >0.000541</td>\n",
       "      <td id=\"T_d3537_row1_col5\" class=\"data row1 col5\" >0.000015</td>\n",
       "      <td id=\"T_d3537_row1_col6\" class=\"data row1 col6\" >0.486160</td>\n",
       "      <td id=\"T_d3537_row1_col7\" class=\"data row1 col7\" >0.013284</td>\n",
       "    </tr>\n",
       "    <tr>\n",
       "      <th id=\"T_d3537_level0_row2\" class=\"row_heading level0 row2\" >0</th>\n",
       "      <th id=\"T_d3537_level1_row2\" class=\"row_heading level1 row2\" >1</th>\n",
       "      <th id=\"T_d3537_level2_row2\" class=\"row_heading level2 row2\" >0</th>\n",
       "      <td id=\"T_d3537_row2_col0\" class=\"data row2 col0\" >0.013248</td>\n",
       "      <td id=\"T_d3537_row2_col1\" class=\"data row2 col1\" >0.484871</td>\n",
       "      <td id=\"T_d3537_row2_col2\" class=\"data row2 col2\" >0.008881</td>\n",
       "      <td id=\"T_d3537_row2_col3\" class=\"data row2 col3\" >0.325019</td>\n",
       "      <td id=\"T_d3537_row2_col4\" class=\"data row2 col4\" >0.002675</td>\n",
       "      <td id=\"T_d3537_row2_col5\" class=\"data row2 col5\" >0.097894</td>\n",
       "      <td id=\"T_d3537_row2_col6\" class=\"data row2 col6\" >0.001793</td>\n",
       "      <td id=\"T_d3537_row2_col7\" class=\"data row2 col7\" >0.065620</td>\n",
       "    </tr>\n",
       "    <tr>\n",
       "      <th id=\"T_d3537_level0_row3\" class=\"row_heading level0 row3\" >1</th>\n",
       "      <th id=\"T_d3537_level1_row3\" class=\"row_heading level1 row3\" >1</th>\n",
       "      <th id=\"T_d3537_level2_row3\" class=\"row_heading level2 row3\" >0</th>\n",
       "      <td id=\"T_d3537_row3_col0\" class=\"data row3 col0\" >0.000327</td>\n",
       "      <td id=\"T_d3537_row3_col1\" class=\"data row3 col1\" >0.002416</td>\n",
       "      <td id=\"T_d3537_row3_col2\" class=\"data row3 col2\" >0.059274</td>\n",
       "      <td id=\"T_d3537_row3_col3\" class=\"data row3 col3\" >0.437982</td>\n",
       "      <td id=\"T_d3537_row3_col4\" class=\"data row3 col4\" >0.000327</td>\n",
       "      <td id=\"T_d3537_row3_col5\" class=\"data row3 col5\" >0.002416</td>\n",
       "      <td id=\"T_d3537_row3_col6\" class=\"data row3 col6\" >0.059274</td>\n",
       "      <td id=\"T_d3537_row3_col7\" class=\"data row3 col7\" >0.437982</td>\n",
       "    </tr>\n",
       "    <tr>\n",
       "      <th id=\"T_d3537_level0_row4\" class=\"row_heading level0 row4\" >0</th>\n",
       "      <th id=\"T_d3537_level1_row4\" class=\"row_heading level1 row4\" >0</th>\n",
       "      <th id=\"T_d3537_level2_row4\" class=\"row_heading level2 row4\" >1</th>\n",
       "      <td id=\"T_d3537_row4_col0\" class=\"data row4 col0\" >0.437982</td>\n",
       "      <td id=\"T_d3537_row4_col1\" class=\"data row4 col1\" >0.059274</td>\n",
       "      <td id=\"T_d3537_row4_col2\" class=\"data row4 col2\" >0.002416</td>\n",
       "      <td id=\"T_d3537_row4_col3\" class=\"data row4 col3\" >0.000327</td>\n",
       "      <td id=\"T_d3537_row4_col4\" class=\"data row4 col4\" >0.437982</td>\n",
       "      <td id=\"T_d3537_row4_col5\" class=\"data row4 col5\" >0.059274</td>\n",
       "      <td id=\"T_d3537_row4_col6\" class=\"data row4 col6\" >0.002416</td>\n",
       "      <td id=\"T_d3537_row4_col7\" class=\"data row4 col7\" >0.000327</td>\n",
       "    </tr>\n",
       "    <tr>\n",
       "      <th id=\"T_d3537_level0_row5\" class=\"row_heading level0 row5\" >1</th>\n",
       "      <th id=\"T_d3537_level1_row5\" class=\"row_heading level1 row5\" >0</th>\n",
       "      <th id=\"T_d3537_level2_row5\" class=\"row_heading level2 row5\" >1</th>\n",
       "      <td id=\"T_d3537_row5_col0\" class=\"data row5 col0\" >0.065620</td>\n",
       "      <td id=\"T_d3537_row5_col1\" class=\"data row5 col1\" >0.001793</td>\n",
       "      <td id=\"T_d3537_row5_col2\" class=\"data row5 col2\" >0.097894</td>\n",
       "      <td id=\"T_d3537_row5_col3\" class=\"data row5 col3\" >0.002675</td>\n",
       "      <td id=\"T_d3537_row5_col4\" class=\"data row5 col4\" >0.325019</td>\n",
       "      <td id=\"T_d3537_row5_col5\" class=\"data row5 col5\" >0.008881</td>\n",
       "      <td id=\"T_d3537_row5_col6\" class=\"data row5 col6\" >0.484871</td>\n",
       "      <td id=\"T_d3537_row5_col7\" class=\"data row5 col7\" >0.013248</td>\n",
       "    </tr>\n",
       "    <tr>\n",
       "      <th id=\"T_d3537_level0_row6\" class=\"row_heading level0 row6\" >0</th>\n",
       "      <th id=\"T_d3537_level1_row6\" class=\"row_heading level1 row6\" >1</th>\n",
       "      <th id=\"T_d3537_level2_row6\" class=\"row_heading level2 row6\" >1</th>\n",
       "      <td id=\"T_d3537_row6_col0\" class=\"data row6 col0\" >0.013284</td>\n",
       "      <td id=\"T_d3537_row6_col1\" class=\"data row6 col1\" >0.486160</td>\n",
       "      <td id=\"T_d3537_row6_col2\" class=\"data row6 col2\" >0.000015</td>\n",
       "      <td id=\"T_d3537_row6_col3\" class=\"data row6 col3\" >0.000541</td>\n",
       "      <td id=\"T_d3537_row6_col4\" class=\"data row6 col4\" >0.013284</td>\n",
       "      <td id=\"T_d3537_row6_col5\" class=\"data row6 col5\" >0.486160</td>\n",
       "      <td id=\"T_d3537_row6_col6\" class=\"data row6 col6\" >0.000015</td>\n",
       "      <td id=\"T_d3537_row6_col7\" class=\"data row6 col7\" >0.000541</td>\n",
       "    </tr>\n",
       "    <tr>\n",
       "      <th id=\"T_d3537_level0_row7\" class=\"row_heading level0 row7\" >1</th>\n",
       "      <th id=\"T_d3537_level1_row7\" class=\"row_heading level1 row7\" >1</th>\n",
       "      <th id=\"T_d3537_level2_row7\" class=\"row_heading level2 row7\" >1</th>\n",
       "      <td id=\"T_d3537_row7_col0\" class=\"data row7 col0\" >0.015389</td>\n",
       "      <td id=\"T_d3537_row7_col1\" class=\"data row7 col1\" >0.113709</td>\n",
       "      <td id=\"T_d3537_row7_col2\" class=\"data row7 col2\" >0.004635</td>\n",
       "      <td id=\"T_d3537_row7_col3\" class=\"data row7 col3\" >0.034249</td>\n",
       "      <td id=\"T_d3537_row7_col4\" class=\"data row7 col4\" >0.076222</td>\n",
       "      <td id=\"T_d3537_row7_col5\" class=\"data row7 col5\" >0.563205</td>\n",
       "      <td id=\"T_d3537_row7_col6\" class=\"data row7 col6\" >0.022957</td>\n",
       "      <td id=\"T_d3537_row7_col7\" class=\"data row7 col7\" >0.169634</td>\n",
       "    </tr>\n",
       "  </tbody>\n",
       "</table>\n"
      ],
      "text/plain": [
       "<pandas.io.formats.style.Styler at 0x7fd2b8e27c40>"
      ]
     },
     "execution_count": 15,
     "metadata": {},
     "output_type": "execute_result"
    }
   ],
   "source": [
    "\n",
    "viz.highlight_transition_probability(TPM,input_state,output_state)"
   ]
  },
  {
   "cell_type": "markdown",
   "id": "87964769-b0a0-4185-b563-3db321ffcb42",
   "metadata": {},
   "source": [
    "This is true for any combination of input and output states: the the conditional probabilities in the state-by-state (square) TPM are always found by taking the product of probabilities from the state-by-node TPM. try it out!"
   ]
  },
  {
   "cell_type": "code",
   "execution_count": 16,
   "id": "7652dc89-dc77-4e16-a72d-92de36a669b4",
   "metadata": {
    "tags": []
   },
   "outputs": [
    {
     "data": {
      "text/plain": [
       "True"
      ]
     },
     "execution_count": 16,
     "metadata": {},
     "output_type": "execute_result"
    }
   ],
   "source": [
    "\n",
    "# choose some input and output states\n",
    "input_state = (1,1,1)\n",
    "output_state = (1,1,1)\n",
    "\n",
    "# compute probaility of the ooutput state happening from both TPM representations\n",
    "P_from_units = substrate_probability_from_unit_probabilities(substrate,input_state, output_state)\n",
    "P_from_statebystate = TPM[output_state][input_state]\n",
    "\n",
    "# check if they are the same\n",
    "P_from_units == P_from_statebystate"
   ]
  },
  {
   "cell_type": "markdown",
   "id": "0cf7f6b8-da7a-47c4-9181-0cbdd11d3510",
   "metadata": {},
   "source": [
    "In fact, it might be best to think of the TPM primarily in its state-by-node form. As that makes it easier to consider the units as conditionally independent. "
   ]
  },
  {
   "cell_type": "code",
   "execution_count": 19,
   "id": "b8ef6dd8-b9b7-454c-8fa2-1a744ba11b62",
   "metadata": {
    "tags": []
   },
   "outputs": [
    {
     "data": {
      "text/html": [
       "<div>\n",
       "<style scoped>\n",
       "    .dataframe tbody tr th:only-of-type {\n",
       "        vertical-align: middle;\n",
       "    }\n",
       "\n",
       "    .dataframe tbody tr th {\n",
       "        vertical-align: top;\n",
       "    }\n",
       "\n",
       "    .dataframe thead th {\n",
       "        text-align: right;\n",
       "    }\n",
       "</style>\n",
       "<table border=\"1\" class=\"dataframe\">\n",
       "  <thead>\n",
       "    <tr style=\"text-align: right;\">\n",
       "      <th></th>\n",
       "      <th></th>\n",
       "      <th></th>\n",
       "      <th>A ON</th>\n",
       "      <th>B ON</th>\n",
       "      <th>C ON</th>\n",
       "    </tr>\n",
       "    <tr>\n",
       "      <th>A</th>\n",
       "      <th>B</th>\n",
       "      <th>C</th>\n",
       "      <th></th>\n",
       "      <th></th>\n",
       "      <th></th>\n",
       "    </tr>\n",
       "  </thead>\n",
       "  <tbody>\n",
       "    <tr>\n",
       "      <th>0</th>\n",
       "      <th>0</th>\n",
       "      <th>0</th>\n",
       "      <td>0.119203</td>\n",
       "      <td>0.768525</td>\n",
       "      <td>0.167982</td>\n",
       "    </tr>\n",
       "    <tr>\n",
       "      <th>1</th>\n",
       "      <th>0</th>\n",
       "      <th>0</th>\n",
       "      <td>0.026597</td>\n",
       "      <td>0.998887</td>\n",
       "      <td>0.500000</td>\n",
       "    </tr>\n",
       "    <tr>\n",
       "      <th>0</th>\n",
       "      <th>1</th>\n",
       "      <th>0</th>\n",
       "      <td>0.973403</td>\n",
       "      <td>0.401312</td>\n",
       "      <td>0.167982</td>\n",
       "    </tr>\n",
       "    <tr>\n",
       "      <th>1</th>\n",
       "      <th>1</th>\n",
       "      <th>0</th>\n",
       "      <td>0.880797</td>\n",
       "      <td>0.994514</td>\n",
       "      <td>0.500000</td>\n",
       "    </tr>\n",
       "    <tr>\n",
       "      <th>0</th>\n",
       "      <th>0</th>\n",
       "      <th>1</th>\n",
       "      <td>0.119203</td>\n",
       "      <td>0.005486</td>\n",
       "      <td>0.500000</td>\n",
       "    </tr>\n",
       "    <tr>\n",
       "      <th>1</th>\n",
       "      <th>0</th>\n",
       "      <th>1</th>\n",
       "      <td>0.026597</td>\n",
       "      <td>0.598688</td>\n",
       "      <td>0.832018</td>\n",
       "    </tr>\n",
       "    <tr>\n",
       "      <th>0</th>\n",
       "      <th>1</th>\n",
       "      <th>1</th>\n",
       "      <td>0.973403</td>\n",
       "      <td>0.001113</td>\n",
       "      <td>0.500000</td>\n",
       "    </tr>\n",
       "    <tr>\n",
       "      <th>1</th>\n",
       "      <th>1</th>\n",
       "      <th>1</th>\n",
       "      <td>0.880797</td>\n",
       "      <td>0.231475</td>\n",
       "      <td>0.832018</td>\n",
       "    </tr>\n",
       "  </tbody>\n",
       "</table>\n",
       "</div>"
      ],
      "text/plain": [
       "           A ON      B ON      C ON\n",
       "A B C                              \n",
       "0 0 0  0.119203  0.768525  0.167982\n",
       "1 0 0  0.026597  0.998887  0.500000\n",
       "0 1 0  0.973403  0.401312  0.167982\n",
       "1 1 0  0.880797  0.994514  0.500000\n",
       "0 0 1  0.119203  0.005486  0.500000\n",
       "1 0 1  0.026597  0.598688  0.832018\n",
       "0 1 1  0.973403  0.001113  0.500000\n",
       "1 1 1  0.880797  0.231475  0.832018"
      ]
     },
     "execution_count": 19,
     "metadata": {},
     "output_type": "execute_result"
    }
   ],
   "source": [
    "viz.state_by_node_tpm(substrate)"
   ]
  },
  {
   "cell_type": "markdown",
   "id": "cf434c74-4433-478a-ba27-be8de2d45ddb",
   "metadata": {},
   "source": [
    "Each column in this TPM shows the probability of the corresponding (binary) unit turning *ON*. In fact, we might just as well consider each column independently as a \"unit TPM\" for its corresponding unit.  "
   ]
  },
  {
   "cell_type": "code",
   "execution_count": 23,
   "id": "7366b412-f37a-4829-8926-8a428af9f1d1",
   "metadata": {
    "tags": []
   },
   "outputs": [
    {
     "data": {
      "text/html": [
       "<div>\n",
       "<style scoped>\n",
       "    .dataframe tbody tr th:only-of-type {\n",
       "        vertical-align: middle;\n",
       "    }\n",
       "\n",
       "    .dataframe tbody tr th {\n",
       "        vertical-align: top;\n",
       "    }\n",
       "\n",
       "    .dataframe thead th {\n",
       "        text-align: right;\n",
       "    }\n",
       "</style>\n",
       "<table border=\"1\" class=\"dataframe\">\n",
       "  <thead>\n",
       "    <tr style=\"text-align: right;\">\n",
       "      <th></th>\n",
       "      <th></th>\n",
       "      <th></th>\n",
       "      <th>B ON</th>\n",
       "    </tr>\n",
       "    <tr>\n",
       "      <th>A</th>\n",
       "      <th>B</th>\n",
       "      <th>C</th>\n",
       "      <th></th>\n",
       "    </tr>\n",
       "  </thead>\n",
       "  <tbody>\n",
       "    <tr>\n",
       "      <th>0</th>\n",
       "      <th>0</th>\n",
       "      <th>0</th>\n",
       "      <td>0.768525</td>\n",
       "    </tr>\n",
       "    <tr>\n",
       "      <th>1</th>\n",
       "      <th>0</th>\n",
       "      <th>0</th>\n",
       "      <td>0.998887</td>\n",
       "    </tr>\n",
       "    <tr>\n",
       "      <th>0</th>\n",
       "      <th>1</th>\n",
       "      <th>0</th>\n",
       "      <td>0.401312</td>\n",
       "    </tr>\n",
       "    <tr>\n",
       "      <th>1</th>\n",
       "      <th>1</th>\n",
       "      <th>0</th>\n",
       "      <td>0.994514</td>\n",
       "    </tr>\n",
       "    <tr>\n",
       "      <th>0</th>\n",
       "      <th>0</th>\n",
       "      <th>1</th>\n",
       "      <td>0.005486</td>\n",
       "    </tr>\n",
       "    <tr>\n",
       "      <th>1</th>\n",
       "      <th>0</th>\n",
       "      <th>1</th>\n",
       "      <td>0.598688</td>\n",
       "    </tr>\n",
       "    <tr>\n",
       "      <th>0</th>\n",
       "      <th>1</th>\n",
       "      <th>1</th>\n",
       "      <td>0.001113</td>\n",
       "    </tr>\n",
       "    <tr>\n",
       "      <th>1</th>\n",
       "      <th>1</th>\n",
       "      <th>1</th>\n",
       "      <td>0.231475</td>\n",
       "    </tr>\n",
       "  </tbody>\n",
       "</table>\n",
       "</div>"
      ],
      "text/plain": [
       "           B ON\n",
       "A B C          \n",
       "0 0 0  0.768525\n",
       "1 0 0  0.998887\n",
       "0 1 0  0.401312\n",
       "1 1 0  0.994514\n",
       "0 0 1  0.005486\n",
       "1 0 1  0.598688\n",
       "0 1 1  0.001113\n",
       "1 1 1  0.231475"
      ]
     },
     "execution_count": 23,
     "metadata": {},
     "output_type": "execute_result"
    }
   ],
   "source": [
    "viz.unit_tpm(substrate,'B')"
   ]
  },
  {
   "cell_type": "markdown",
   "id": "8b68f196-7421-464e-8042-c2cd5d3812a2",
   "metadata": {},
   "source": [
    "The perceptive reader might have spotted that unit C seems to be behaving a bit strangely: the values in its unit TPM seem to repeat in a structured manner."
   ]
  },
  {
   "cell_type": "code",
   "execution_count": 36,
   "id": "9302c330-a881-436b-a3f2-6022a8a6514b",
   "metadata": {
    "tags": []
   },
   "outputs": [
    {
     "data": {
      "text/html": [
       "<div>\n",
       "<style scoped>\n",
       "    .dataframe tbody tr th:only-of-type {\n",
       "        vertical-align: middle;\n",
       "    }\n",
       "\n",
       "    .dataframe tbody tr th {\n",
       "        vertical-align: top;\n",
       "    }\n",
       "\n",
       "    .dataframe thead th {\n",
       "        text-align: right;\n",
       "    }\n",
       "</style>\n",
       "<table border=\"1\" class=\"dataframe\">\n",
       "  <thead>\n",
       "    <tr style=\"text-align: right;\">\n",
       "      <th></th>\n",
       "      <th></th>\n",
       "      <th></th>\n",
       "      <th>C ON</th>\n",
       "    </tr>\n",
       "    <tr>\n",
       "      <th>A</th>\n",
       "      <th>B</th>\n",
       "      <th>C</th>\n",
       "      <th></th>\n",
       "    </tr>\n",
       "  </thead>\n",
       "  <tbody>\n",
       "    <tr>\n",
       "      <th>0</th>\n",
       "      <th>0</th>\n",
       "      <th>0</th>\n",
       "      <td>0.167982</td>\n",
       "    </tr>\n",
       "    <tr>\n",
       "      <th>1</th>\n",
       "      <th>0</th>\n",
       "      <th>0</th>\n",
       "      <td>0.500000</td>\n",
       "    </tr>\n",
       "    <tr>\n",
       "      <th>0</th>\n",
       "      <th>1</th>\n",
       "      <th>0</th>\n",
       "      <td>0.167982</td>\n",
       "    </tr>\n",
       "    <tr>\n",
       "      <th>1</th>\n",
       "      <th>1</th>\n",
       "      <th>0</th>\n",
       "      <td>0.500000</td>\n",
       "    </tr>\n",
       "    <tr>\n",
       "      <th>0</th>\n",
       "      <th>0</th>\n",
       "      <th>1</th>\n",
       "      <td>0.500000</td>\n",
       "    </tr>\n",
       "    <tr>\n",
       "      <th>1</th>\n",
       "      <th>0</th>\n",
       "      <th>1</th>\n",
       "      <td>0.832018</td>\n",
       "    </tr>\n",
       "    <tr>\n",
       "      <th>0</th>\n",
       "      <th>1</th>\n",
       "      <th>1</th>\n",
       "      <td>0.500000</td>\n",
       "    </tr>\n",
       "    <tr>\n",
       "      <th>1</th>\n",
       "      <th>1</th>\n",
       "      <th>1</th>\n",
       "      <td>0.832018</td>\n",
       "    </tr>\n",
       "  </tbody>\n",
       "</table>\n",
       "</div>"
      ],
      "text/plain": [
       "           C ON\n",
       "A B C          \n",
       "0 0 0  0.167982\n",
       "1 0 0  0.500000\n",
       "0 1 0  0.167982\n",
       "1 1 0  0.500000\n",
       "0 0 1  0.500000\n",
       "1 0 1  0.832018\n",
       "0 1 1  0.500000\n",
       "1 1 1  0.832018"
      ]
     },
     "execution_count": 36,
     "metadata": {},
     "output_type": "execute_result"
    }
   ],
   "source": [
    "viz.unit_tpm(substrate,'C')"
   ]
  },
  {
   "cell_type": "markdown",
   "id": "15958a87-a96e-4a7c-bdaa-2b609b4b71ad",
   "metadata": {},
   "source": [
    "This is because it only receives inputs from two out of the three units in the substrate."
   ]
  },
  {
   "cell_type": "code",
   "execution_count": 37,
   "id": "7448bfb5-e489-4e01-95ec-ce0e8490a837",
   "metadata": {
    "tags": []
   },
   "outputs": [
    {
     "data": {
      "text/plain": [
       "['A', 'C']"
      ]
     },
     "execution_count": 37,
     "metadata": {},
     "output_type": "execute_result"
    }
   ],
   "source": [
    "utils.possible_inputs(substrate, 'C')"
   ]
  },
  {
   "cell_type": "markdown",
   "id": "9628f230-228c-4f79-89ac-3b58a5fd5819",
   "metadata": {
    "jp-MarkdownHeadingCollapsed": true,
    "tags": []
   },
   "source": [
    "Still, it is useful to keep the full set of input states in the TPM, for completeness sake. Let's move on to the next section."
   ]
  },
  {
   "cell_type": "markdown",
   "id": "22674665-1a7c-4a29-bea2-2b053c61b2ad",
   "metadata": {},
   "source": [
    "## Constrained and unconstrained probabilities"
   ]
  },
  {
   "cell_type": "code",
   "execution_count": null,
   "id": "810483ab-7bec-4a79-8cec-d6e55359d3a5",
   "metadata": {},
   "outputs": [],
   "source": []
  },
  {
   "cell_type": "code",
   "execution_count": null,
   "id": "e90afdaf-8ed4-44c6-be9f-8a4e94989c59",
   "metadata": {},
   "outputs": [],
   "source": []
  },
  {
   "cell_type": "code",
   "execution_count": null,
   "id": "c3063487-fbf4-4970-ae06-d005b7e34413",
   "metadata": {},
   "outputs": [],
   "source": []
  },
  {
   "cell_type": "code",
   "execution_count": null,
   "id": "0f3f3d56-4aa3-4591-a6c4-e4933df3a843",
   "metadata": {},
   "outputs": [],
   "source": []
  },
  {
   "cell_type": "code",
   "execution_count": null,
   "id": "f70250ca-1261-40ed-bcc6-84516c36e30b",
   "metadata": {},
   "outputs": [],
   "source": []
  },
  {
   "cell_type": "code",
   "execution_count": null,
   "id": "e3f70552-7655-4884-9d63-e4cd9e433393",
   "metadata": {},
   "outputs": [],
   "source": []
  },
  {
   "cell_type": "markdown",
   "id": "30a54c8b-d174-443f-9558-dee8314cb294",
   "metadata": {},
   "source": [
    "## Computing informativeness"
   ]
  },
  {
   "cell_type": "code",
   "execution_count": null,
   "id": "1970197e-db21-4849-bad5-532b08ac974e",
   "metadata": {},
   "outputs": [],
   "source": []
  },
  {
   "cell_type": "code",
   "execution_count": null,
   "id": "6373ab59-c1f9-4c66-9f34-f1d8e8d1d1da",
   "metadata": {},
   "outputs": [],
   "source": []
  },
  {
   "cell_type": "code",
   "execution_count": null,
   "id": "84221193-3b3e-4f73-a500-f35ac8de6aae",
   "metadata": {},
   "outputs": [],
   "source": []
  },
  {
   "cell_type": "code",
   "execution_count": null,
   "id": "87ff2465-db2b-4bd3-ae2d-0db4c0c99617",
   "metadata": {},
   "outputs": [],
   "source": []
  },
  {
   "cell_type": "code",
   "execution_count": null,
   "id": "caa6f467-237b-43dc-9bf8-d5868e0d7b5b",
   "metadata": {},
   "outputs": [],
   "source": []
  },
  {
   "cell_type": "code",
   "execution_count": null,
   "id": "dae64e74-6cfb-4c15-bb04-dd67b2a517b2",
   "metadata": {},
   "outputs": [],
   "source": []
  },
  {
   "cell_type": "code",
   "execution_count": null,
   "id": "d37817e6-6b02-4825-97c4-820713a68de1",
   "metadata": {},
   "outputs": [],
   "source": []
  },
  {
   "cell_type": "markdown",
   "id": "30a356d8-ea59-4461-aed6-ee4295202c58",
   "metadata": {
    "tags": []
   },
   "source": [
    "## Using informativeness to \"assess existence\""
   ]
  },
  {
   "cell_type": "code",
   "execution_count": null,
   "id": "0c9891dd-02ae-4dd5-a691-04aa1a221e6f",
   "metadata": {},
   "outputs": [],
   "source": []
  },
  {
   "cell_type": "code",
   "execution_count": null,
   "id": "c8a70a85-777c-441d-b9be-0da8793ab514",
   "metadata": {},
   "outputs": [],
   "source": []
  },
  {
   "cell_type": "code",
   "execution_count": 92,
   "id": "53b7ab5a-8306-4f90-9fef-e504afea2c88",
   "metadata": {},
   "outputs": [
    {
     "data": {
      "text/html": [
       "<style type=\"text/css\">\n",
       "#T_2296f td:hover {\n",
       "  background-color: #ffffb3;\n",
       "}\n",
       "#T_2296f .index_name {\n",
       "  font-style: bold;\n",
       "  color: darkgrey;\n",
       "  font-weight: normal;\n",
       "}\n",
       "#T_2296f th:not(.index_name) {\n",
       "  background-color: lightblue;\n",
       "  color: black;\n",
       "}\n",
       "</style>\n",
       "<table id=\"T_2296f\">\n",
       "  <thead>\n",
       "    <tr>\n",
       "      <th class=\"blank\" >&nbsp;</th>\n",
       "      <th class=\"blank\" >&nbsp;</th>\n",
       "      <th class=\"index_name level0\" >A</th>\n",
       "      <th id=\"T_2296f_level0_col0\" class=\"col_heading level0 col0\" >0</th>\n",
       "      <th id=\"T_2296f_level0_col1\" class=\"col_heading level0 col1\" >1</th>\n",
       "      <th id=\"T_2296f_level0_col2\" class=\"col_heading level0 col2\" >0</th>\n",
       "      <th id=\"T_2296f_level0_col3\" class=\"col_heading level0 col3\" >1</th>\n",
       "      <th id=\"T_2296f_level0_col4\" class=\"col_heading level0 col4\" >0</th>\n",
       "      <th id=\"T_2296f_level0_col5\" class=\"col_heading level0 col5\" >1</th>\n",
       "      <th id=\"T_2296f_level0_col6\" class=\"col_heading level0 col6\" >0</th>\n",
       "      <th id=\"T_2296f_level0_col7\" class=\"col_heading level0 col7\" >1</th>\n",
       "    </tr>\n",
       "    <tr>\n",
       "      <th class=\"blank\" >&nbsp;</th>\n",
       "      <th class=\"blank\" >&nbsp;</th>\n",
       "      <th class=\"index_name level1\" >B</th>\n",
       "      <th id=\"T_2296f_level1_col0\" class=\"col_heading level1 col0\" >0</th>\n",
       "      <th id=\"T_2296f_level1_col1\" class=\"col_heading level1 col1\" >0</th>\n",
       "      <th id=\"T_2296f_level1_col2\" class=\"col_heading level1 col2\" >1</th>\n",
       "      <th id=\"T_2296f_level1_col3\" class=\"col_heading level1 col3\" >1</th>\n",
       "      <th id=\"T_2296f_level1_col4\" class=\"col_heading level1 col4\" >0</th>\n",
       "      <th id=\"T_2296f_level1_col5\" class=\"col_heading level1 col5\" >0</th>\n",
       "      <th id=\"T_2296f_level1_col6\" class=\"col_heading level1 col6\" >1</th>\n",
       "      <th id=\"T_2296f_level1_col7\" class=\"col_heading level1 col7\" >1</th>\n",
       "    </tr>\n",
       "    <tr>\n",
       "      <th class=\"blank\" >&nbsp;</th>\n",
       "      <th class=\"blank\" >&nbsp;</th>\n",
       "      <th class=\"index_name level2\" >C</th>\n",
       "      <th id=\"T_2296f_level2_col0\" class=\"col_heading level2 col0\" >0</th>\n",
       "      <th id=\"T_2296f_level2_col1\" class=\"col_heading level2 col1\" >0</th>\n",
       "      <th id=\"T_2296f_level2_col2\" class=\"col_heading level2 col2\" >0</th>\n",
       "      <th id=\"T_2296f_level2_col3\" class=\"col_heading level2 col3\" >0</th>\n",
       "      <th id=\"T_2296f_level2_col4\" class=\"col_heading level2 col4\" >1</th>\n",
       "      <th id=\"T_2296f_level2_col5\" class=\"col_heading level2 col5\" >1</th>\n",
       "      <th id=\"T_2296f_level2_col6\" class=\"col_heading level2 col6\" >1</th>\n",
       "      <th id=\"T_2296f_level2_col7\" class=\"col_heading level2 col7\" >1</th>\n",
       "    </tr>\n",
       "    <tr>\n",
       "      <th class=\"index_name level0\" >A</th>\n",
       "      <th class=\"index_name level1\" >B</th>\n",
       "      <th class=\"index_name level2\" >C</th>\n",
       "      <th class=\"blank col0\" >&nbsp;</th>\n",
       "      <th class=\"blank col1\" >&nbsp;</th>\n",
       "      <th class=\"blank col2\" >&nbsp;</th>\n",
       "      <th class=\"blank col3\" >&nbsp;</th>\n",
       "      <th class=\"blank col4\" >&nbsp;</th>\n",
       "      <th class=\"blank col5\" >&nbsp;</th>\n",
       "      <th class=\"blank col6\" >&nbsp;</th>\n",
       "      <th class=\"blank col7\" >&nbsp;</th>\n",
       "    </tr>\n",
       "  </thead>\n",
       "  <tbody>\n",
       "    <tr>\n",
       "      <th id=\"T_2296f_level0_row0\" class=\"row_heading level0 row0\" >0</th>\n",
       "      <th id=\"T_2296f_level1_row0\" class=\"row_heading level1 row0\" >0</th>\n",
       "      <th id=\"T_2296f_level2_row0\" class=\"row_heading level2 row0\" >0</th>\n",
       "      <td id=\"T_2296f_row0_col0\" class=\"data row0 col0\" >0.170000</td>\n",
       "      <td id=\"T_2296f_row0_col1\" class=\"data row0 col1\" >0.023000</td>\n",
       "      <td id=\"T_2296f_row0_col2\" class=\"data row0 col2\" >0.563000</td>\n",
       "      <td id=\"T_2296f_row0_col3\" class=\"data row0 col3\" >0.076000</td>\n",
       "      <td id=\"T_2296f_row0_col4\" class=\"data row0 col4\" >0.034000</td>\n",
       "      <td id=\"T_2296f_row0_col5\" class=\"data row0 col5\" >0.005000</td>\n",
       "      <td id=\"T_2296f_row0_col6\" class=\"data row0 col6\" >0.114000</td>\n",
       "      <td id=\"T_2296f_row0_col7\" class=\"data row0 col7\" >0.015000</td>\n",
       "    </tr>\n",
       "    <tr>\n",
       "      <th id=\"T_2296f_level0_row1\" class=\"row_heading level0 row1\" >1</th>\n",
       "      <th id=\"T_2296f_level1_row1\" class=\"row_heading level1 row1\" >0</th>\n",
       "      <th id=\"T_2296f_level2_row1\" class=\"row_heading level2 row1\" >0</th>\n",
       "      <td id=\"T_2296f_row1_col0\" class=\"data row1 col0\" >0.001000</td>\n",
       "      <td id=\"T_2296f_row1_col1\" class=\"data row1 col1\" >0.000000</td>\n",
       "      <td id=\"T_2296f_row1_col2\" class=\"data row1 col2\" >0.486000</td>\n",
       "      <td id=\"T_2296f_row1_col3\" class=\"data row1 col3\" >0.013000</td>\n",
       "      <td id=\"T_2296f_row1_col4\" class=\"data row1 col4\" >0.001000</td>\n",
       "      <td id=\"T_2296f_row1_col5\" class=\"data row1 col5\" >0.000000</td>\n",
       "      <td id=\"T_2296f_row1_col6\" class=\"data row1 col6\" >0.486000</td>\n",
       "      <td id=\"T_2296f_row1_col7\" class=\"data row1 col7\" >0.013000</td>\n",
       "    </tr>\n",
       "    <tr>\n",
       "      <th id=\"T_2296f_level0_row2\" class=\"row_heading level0 row2\" >0</th>\n",
       "      <th id=\"T_2296f_level1_row2\" class=\"row_heading level1 row2\" >1</th>\n",
       "      <th id=\"T_2296f_level2_row2\" class=\"row_heading level2 row2\" >0</th>\n",
       "      <td id=\"T_2296f_row2_col0\" class=\"data row2 col0\" >0.013000</td>\n",
       "      <td id=\"T_2296f_row2_col1\" class=\"data row2 col1\" >0.485000</td>\n",
       "      <td id=\"T_2296f_row2_col2\" class=\"data row2 col2\" >0.009000</td>\n",
       "      <td id=\"T_2296f_row2_col3\" class=\"data row2 col3\" >0.325000</td>\n",
       "      <td id=\"T_2296f_row2_col4\" class=\"data row2 col4\" >0.003000</td>\n",
       "      <td id=\"T_2296f_row2_col5\" class=\"data row2 col5\" >0.098000</td>\n",
       "      <td id=\"T_2296f_row2_col6\" class=\"data row2 col6\" >0.002000</td>\n",
       "      <td id=\"T_2296f_row2_col7\" class=\"data row2 col7\" >0.066000</td>\n",
       "    </tr>\n",
       "    <tr>\n",
       "      <th id=\"T_2296f_level0_row3\" class=\"row_heading level0 row3\" >1</th>\n",
       "      <th id=\"T_2296f_level1_row3\" class=\"row_heading level1 row3\" >1</th>\n",
       "      <th id=\"T_2296f_level2_row3\" class=\"row_heading level2 row3\" >0</th>\n",
       "      <td id=\"T_2296f_row3_col0\" class=\"data row3 col0\" >0.000000</td>\n",
       "      <td id=\"T_2296f_row3_col1\" class=\"data row3 col1\" >0.002000</td>\n",
       "      <td id=\"T_2296f_row3_col2\" class=\"data row3 col2\" >0.059000</td>\n",
       "      <td id=\"T_2296f_row3_col3\" class=\"data row3 col3\" >0.438000</td>\n",
       "      <td id=\"T_2296f_row3_col4\" class=\"data row3 col4\" >0.000000</td>\n",
       "      <td id=\"T_2296f_row3_col5\" class=\"data row3 col5\" >0.002000</td>\n",
       "      <td id=\"T_2296f_row3_col6\" class=\"data row3 col6\" >0.059000</td>\n",
       "      <td id=\"T_2296f_row3_col7\" class=\"data row3 col7\" >0.438000</td>\n",
       "    </tr>\n",
       "    <tr>\n",
       "      <th id=\"T_2296f_level0_row4\" class=\"row_heading level0 row4\" >0</th>\n",
       "      <th id=\"T_2296f_level1_row4\" class=\"row_heading level1 row4\" >0</th>\n",
       "      <th id=\"T_2296f_level2_row4\" class=\"row_heading level2 row4\" >1</th>\n",
       "      <td id=\"T_2296f_row4_col0\" class=\"data row4 col0\" >0.438000</td>\n",
       "      <td id=\"T_2296f_row4_col1\" class=\"data row4 col1\" >0.059000</td>\n",
       "      <td id=\"T_2296f_row4_col2\" class=\"data row4 col2\" >0.002000</td>\n",
       "      <td id=\"T_2296f_row4_col3\" class=\"data row4 col3\" >0.000000</td>\n",
       "      <td id=\"T_2296f_row4_col4\" class=\"data row4 col4\" >0.438000</td>\n",
       "      <td id=\"T_2296f_row4_col5\" class=\"data row4 col5\" >0.059000</td>\n",
       "      <td id=\"T_2296f_row4_col6\" class=\"data row4 col6\" >0.002000</td>\n",
       "      <td id=\"T_2296f_row4_col7\" class=\"data row4 col7\" >0.000000</td>\n",
       "    </tr>\n",
       "    <tr>\n",
       "      <th id=\"T_2296f_level0_row5\" class=\"row_heading level0 row5\" >1</th>\n",
       "      <th id=\"T_2296f_level1_row5\" class=\"row_heading level1 row5\" >0</th>\n",
       "      <th id=\"T_2296f_level2_row5\" class=\"row_heading level2 row5\" >1</th>\n",
       "      <td id=\"T_2296f_row5_col0\" class=\"data row5 col0\" >0.066000</td>\n",
       "      <td id=\"T_2296f_row5_col1\" class=\"data row5 col1\" >0.002000</td>\n",
       "      <td id=\"T_2296f_row5_col2\" class=\"data row5 col2\" >0.098000</td>\n",
       "      <td id=\"T_2296f_row5_col3\" class=\"data row5 col3\" >0.003000</td>\n",
       "      <td id=\"T_2296f_row5_col4\" class=\"data row5 col4\" >0.325000</td>\n",
       "      <td id=\"T_2296f_row5_col5\" class=\"data row5 col5\" >0.009000</td>\n",
       "      <td id=\"T_2296f_row5_col6\" class=\"data row5 col6\" >0.485000</td>\n",
       "      <td id=\"T_2296f_row5_col7\" class=\"data row5 col7\" >0.013000</td>\n",
       "    </tr>\n",
       "    <tr>\n",
       "      <th id=\"T_2296f_level0_row6\" class=\"row_heading level0 row6\" >0</th>\n",
       "      <th id=\"T_2296f_level1_row6\" class=\"row_heading level1 row6\" >1</th>\n",
       "      <th id=\"T_2296f_level2_row6\" class=\"row_heading level2 row6\" >1</th>\n",
       "      <td id=\"T_2296f_row6_col0\" class=\"data row6 col0\" >0.013000</td>\n",
       "      <td id=\"T_2296f_row6_col1\" class=\"data row6 col1\" >0.486000</td>\n",
       "      <td id=\"T_2296f_row6_col2\" class=\"data row6 col2\" >0.000000</td>\n",
       "      <td id=\"T_2296f_row6_col3\" class=\"data row6 col3\" >0.001000</td>\n",
       "      <td id=\"T_2296f_row6_col4\" class=\"data row6 col4\" >0.013000</td>\n",
       "      <td id=\"T_2296f_row6_col5\" class=\"data row6 col5\" >0.486000</td>\n",
       "      <td id=\"T_2296f_row6_col6\" class=\"data row6 col6\" >0.000000</td>\n",
       "      <td id=\"T_2296f_row6_col7\" class=\"data row6 col7\" >0.001000</td>\n",
       "    </tr>\n",
       "    <tr>\n",
       "      <th id=\"T_2296f_level0_row7\" class=\"row_heading level0 row7\" >1</th>\n",
       "      <th id=\"T_2296f_level1_row7\" class=\"row_heading level1 row7\" >1</th>\n",
       "      <th id=\"T_2296f_level2_row7\" class=\"row_heading level2 row7\" >1</th>\n",
       "      <td id=\"T_2296f_row7_col0\" class=\"data row7 col0\" >0.015000</td>\n",
       "      <td id=\"T_2296f_row7_col1\" class=\"data row7 col1\" >0.114000</td>\n",
       "      <td id=\"T_2296f_row7_col2\" class=\"data row7 col2\" >0.005000</td>\n",
       "      <td id=\"T_2296f_row7_col3\" class=\"data row7 col3\" >0.034000</td>\n",
       "      <td id=\"T_2296f_row7_col4\" class=\"data row7 col4\" >0.076000</td>\n",
       "      <td id=\"T_2296f_row7_col5\" class=\"data row7 col5\" >0.563000</td>\n",
       "      <td id=\"T_2296f_row7_col6\" class=\"data row7 col6\" >0.023000</td>\n",
       "      <td id=\"T_2296f_row7_col7\" class=\"data row7 col7\" >0.170000</td>\n",
       "    </tr>\n",
       "  </tbody>\n",
       "</table>\n"
      ],
      "text/plain": [
       "<pandas.io.formats.style.Styler at 0x7fc5c3b12440>"
      ]
     },
     "execution_count": 92,
     "metadata": {},
     "output_type": "execute_result"
    }
   ],
   "source": [
    "cell_hover = {  # for row hover use <tr> instead of <td>\n",
    "    'selector': 'td:hover',\n",
    "    'props': [('background-color', '#ffffb3')]\n",
    "}\n",
    "index_names = {\n",
    "    'selector': '.index_name',\n",
    "    'props': 'font-style: bold; color: darkgrey; font-weight:normal;'\n",
    "}\n",
    "headers = {\n",
    "    'selector': 'th:not(.index_name)',\n",
    "    'props': 'background-color: lightblue; color: black;'\n",
    "}\n",
    "TPM.style.set_table_styles([cell_hover, index_names, headers])"
   ]
  }
 ],
 "metadata": {
  "kernelspec": {
   "display_name": "Python 3 (ipykernel)",
   "language": "python",
   "name": "python3"
  },
  "language_info": {
   "codemirror_mode": {
    "name": "ipython",
    "version": 3
   },
   "file_extension": ".py",
   "mimetype": "text/x-python",
   "name": "python",
   "nbconvert_exporter": "python",
   "pygments_lexer": "ipython3",
   "version": "3.10.9"
  }
 },
 "nbformat": 4,
 "nbformat_minor": 5
}
