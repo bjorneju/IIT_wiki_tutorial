{
 "cells": [
  {
   "cell_type": "markdown",
   "id": "295d4cd3-11cc-4f31-827c-d73c86609767",
   "metadata": {},
   "source": [
    "# Assessing information\n",
    "In this notebook we will take a look at what it means to \"assess information\" (or more precisely, we will apply the requirement of specificity) in IIT. Following the introductions in the [postulate page]{link} and the [unfolding page]{link} of the IIT wiki, and the building on the notion of intrinsic cause and effect power developed previously, we will explore the following concepts:\n",
    "\n",
    "1. System state\n",
    "2. Cause and effect states,\n",
    "3. Computing intrinsic information for specific cause and effect states,\n",
    "4. Picking the cause--effect state for our candidate substrate of consciousness,"
   ]
  },
  {
   "cell_type": "markdown",
   "id": "dbeb9790-c368-44d8-965a-e943b0ab1a48",
   "metadata": {},
   "source": [
    "## Import packages\n",
    "To get going, we need to import packages needed for our basic examples"
   ]
  },
  {
   "cell_type": "code",
   "execution_count": 1,
   "id": "2ba4286b-1d59-4495-8bfd-5342a1ccf8f1",
   "metadata": {
    "tags": []
   },
   "outputs": [],
   "source": [
    "import pyphi\n",
    "import tutorial_functions\n",
    "import numpy as np"
   ]
  },
  {
   "cell_type": "markdown",
   "id": "9793882c-9cff-46a4-b7a1-c4e3948a8282",
   "metadata": {},
   "source": [
    "## Initialize the candidate substrate of consciousness\n",
    "First, we recreate the candidate substrate that was introduced in previous sections."
   ]
  },
  {
   "cell_type": "code",
   "execution_count": 2,
   "id": "b67cd00a-90b5-4169-9b76-4f9b412e9f81",
   "metadata": {
    "tags": []
   },
   "outputs": [],
   "source": [
    "# give names to the units\n",
    "node_labels = [\"A\",\"B\",\"C\"]\n",
    "\n",
    "# set the strength of connectivity between units\n",
    "connectivity = np.array(\n",
    "    [\n",
    "        [-.2,0.7,0.2],\n",
    "        [0.7,-.2,0.0],\n",
    "        [0.0,-.8,0.2]        \n",
    "    ]\n",
    ")\n",
    "\n",
    "# set the level of determinism for the units' activation function \n",
    "determinism = 4\n",
    "\n",
    "# build the network\n",
    "network = pyphi.network_generator.build_network(\n",
    "    [pyphi.network_generator.ising.probability]*len(node_labels),\n",
    "    connectivity,\n",
    "    temperature=1/determinism,\n",
    "    node_labels=node_labels\n",
    ")"
   ]
  },
  {
   "cell_type": "code",
   "execution_count": null,
   "id": "c0f69bc0-cc07-46ee-8f4d-87936b22181c",
   "metadata": {},
   "outputs": [],
   "source": [
    "# Isolate the candidate substrate by conditioning on all units not in the candidate substrate"
   ]
  },
  {
   "cell_type": "markdown",
   "id": "ecaf8483-afd7-4539-a91a-26c676a5ad7a",
   "metadata": {},
   "source": [
    "## Cause and effect state\n",
    "Brief introduction with basic justification for why we need it"
   ]
  },
  {
   "cell_type": "code",
   "execution_count": 3,
   "id": "729c4742-0da7-4f6c-988f-2c9ecca1960f",
   "metadata": {
    "tags": []
   },
   "outputs": [],
   "source": [
    "# show examples of candidate cause and effect states"
   ]
  },
  {
   "cell_type": "markdown",
   "id": "ca4c727e-0f63-48db-af78-271c33575ef0",
   "metadata": {},
   "source": [
    "## Computing intrinsic information \n",
    "Introduction with reminder of the balance between expansion and dilution"
   ]
  },
  {
   "cell_type": "code",
   "execution_count": 4,
   "id": "099a7ca7-fcf0-42ff-b238-319bbd6eeb1c",
   "metadata": {
    "tags": []
   },
   "outputs": [],
   "source": [
    "# Compute intrinsic information for some candidate states"
   ]
  },
  {
   "cell_type": "code",
   "execution_count": null,
   "id": "1979853d-d56b-4395-ac98-92dd979bde90",
   "metadata": {},
   "outputs": [],
   "source": [
    "# consider including examples of adding units to show the expansion dilution tradeoff"
   ]
  },
  {
   "cell_type": "markdown",
   "id": "ce5e6c91-a257-494a-aefb-109ffa5ed0ed",
   "metadata": {},
   "source": [
    "## Picking the cause--effect state for our candidate substrate of consciousness\n",
    "Brief introduction with basic reminder of Principle of maximal existence"
   ]
  },
  {
   "cell_type": "code",
   "execution_count": 5,
   "id": "2ede84e6-79b5-471f-b524-9b69669b7f62",
   "metadata": {
    "tags": []
   },
   "outputs": [],
   "source": [
    "# Show how to pick the cause--effect state for our candidate substrate"
   ]
  }
 ],
 "metadata": {
  "kernelspec": {
   "display_name": "Python 3 (ipykernel)",
   "language": "python",
   "name": "python3"
  },
  "language_info": {
   "codemirror_mode": {
    "name": "ipython",
    "version": 3
   },
   "file_extension": ".py",
   "mimetype": "text/x-python",
   "name": "python",
   "nbconvert_exporter": "python",
   "pygments_lexer": "ipython3",
   "version": "3.10.9"
  }
 },
 "nbformat": 4,
 "nbformat_minor": 5
}
