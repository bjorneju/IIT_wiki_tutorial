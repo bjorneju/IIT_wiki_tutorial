{
 "cells": [
  {
   "cell_type": "markdown",
   "id": "295d4cd3-11cc-4f31-827c-d73c86609767",
   "metadata": {},
   "source": [
    "# Assessing integration\n",
    "In this notebook we will take a look at what it means to \"assess integration\" in IIT. Following the introductions in the [postulate page](https://link.com) and the [unfolding page](https://link.com) of the IIT wiki, and the building on the specific cause--effect power developed previously, we will explore the following concepts:\n",
    "\n",
    "1. System partitions,\n",
    "2. Computing integrated information specified over a partition,\n",
    "3. The minimum partition---MiP,\n",
    "4. Computing the integrated information specified by our candidate substrate of consciousness."
   ]
  },
  {
   "cell_type": "markdown",
   "id": "dbeb9790-c368-44d8-965a-e943b0ab1a48",
   "metadata": {},
   "source": [
    "## Import packages\n",
    "To get going, we need to import packages needed for our basic examples"
   ]
  },
  {
   "cell_type": "code",
   "execution_count": 1,
   "id": "2ba4286b-1d59-4495-8bfd-5342a1ccf8f1",
   "metadata": {
    "tags": []
   },
   "outputs": [],
   "source": [
    "import pyphi\n",
    "import tutorial_functions\n",
    "import numpy as np"
   ]
  },
  {
   "cell_type": "markdown",
   "id": "9793882c-9cff-46a4-b7a1-c4e3948a8282",
   "metadata": {},
   "source": [
    "## Initialize the specific candidate substrate of consciousness\n",
    "First, we recreate the candidate substrate that was introduced in previous sections."
   ]
  },
  {
   "cell_type": "code",
   "execution_count": 2,
   "id": "b67cd00a-90b5-4169-9b76-4f9b412e9f81",
   "metadata": {
    "tags": []
   },
   "outputs": [],
   "source": [
    "# give names to the units\n",
    "node_labels = [\"A\",\"B\",\"C\"]\n",
    "\n",
    "# set the strength of connectivity between units\n",
    "connectivity = np.array(\n",
    "    [\n",
    "        [-.2,0.7,0.2],\n",
    "        [0.7,-.2,0.0],\n",
    "        [0.0,-.8,0.2]        \n",
    "    ]\n",
    ")\n",
    "\n",
    "# set the level of determinism for the units' activation function \n",
    "determinism = 4\n",
    "\n",
    "# build the network\n",
    "network = pyphi.network_generator.build_network(\n",
    "    [pyphi.network_generator.ising.probability]*len(node_labels),\n",
    "    connectivity,\n",
    "    temperature=1/determinism,\n",
    "    node_labels=node_labels\n",
    ")"
   ]
  },
  {
   "cell_type": "code",
   "execution_count": null,
   "id": "6c729084-98f8-49e0-b160-84e962f84af3",
   "metadata": {},
   "outputs": [],
   "source": [
    "# Isolate the candidate substrate and specify the cause--effect state"
   ]
  },
  {
   "cell_type": "markdown",
   "id": "ecaf8483-afd7-4539-a91a-26c676a5ad7a",
   "metadata": {},
   "source": [
    "## System partitions\n",
    "Brief introduction with some examples of legal partitions"
   ]
  },
  {
   "cell_type": "code",
   "execution_count": 3,
   "id": "729c4742-0da7-4f6c-988f-2c9ecca1960f",
   "metadata": {
    "tags": []
   },
   "outputs": [],
   "source": [
    "# show examples of partitions"
   ]
  },
  {
   "cell_type": "markdown",
   "id": "ca4c727e-0f63-48db-af78-271c33575ef0",
   "metadata": {},
   "source": [
    "## Computing integrated information over a partition\n",
    "Introduction, with a reminder that also \"non-existent\" connections are cut by a partition"
   ]
  },
  {
   "cell_type": "code",
   "execution_count": 4,
   "id": "099a7ca7-fcf0-42ff-b238-319bbd6eeb1c",
   "metadata": {
    "tags": []
   },
   "outputs": [],
   "source": [
    "# Compute integrated information for some candidate partitions"
   ]
  },
  {
   "cell_type": "markdown",
   "id": "ce5e6c91-a257-494a-aefb-109ffa5ed0ed",
   "metadata": {},
   "source": [
    "## The minimum partition (MiP)\n",
    "Introduce the notion of MiP. briefly refer to the principle of minimal existence"
   ]
  },
  {
   "cell_type": "code",
   "execution_count": 5,
   "id": "2ede84e6-79b5-471f-b524-9b69669b7f62",
   "metadata": {
    "tags": []
   },
   "outputs": [],
   "source": [
    "# Find the MiP"
   ]
  },
  {
   "cell_type": "markdown",
   "id": "5e61702a-21f5-4c79-a128-c7c70eb0b9a4",
   "metadata": {},
   "source": [
    "## Computing the integrated information specified by our candidate substrate of consciousness\n",
    "Basic introduction\n"
   ]
  },
  {
   "cell_type": "code",
   "execution_count": 6,
   "id": "3a9ef170-4eaf-498d-a842-9e1d448af735",
   "metadata": {
    "tags": []
   },
   "outputs": [],
   "source": [
    "# compute the integrated information specified over the MiP"
   ]
  },
  {
   "cell_type": "code",
   "execution_count": null,
   "id": "814aed32-b232-4956-811b-e2985e50a994",
   "metadata": {},
   "outputs": [],
   "source": []
  }
 ],
 "metadata": {
  "kernelspec": {
   "display_name": "Python 3 (ipykernel)",
   "language": "python",
   "name": "python3"
  },
  "language_info": {
   "codemirror_mode": {
    "name": "ipython",
    "version": 3
   },
   "file_extension": ".py",
   "mimetype": "text/x-python",
   "name": "python",
   "nbconvert_exporter": "python",
   "pygments_lexer": "ipython3",
   "version": "3.10.9"
  }
 },
 "nbformat": 4,
 "nbformat_minor": 5
}
