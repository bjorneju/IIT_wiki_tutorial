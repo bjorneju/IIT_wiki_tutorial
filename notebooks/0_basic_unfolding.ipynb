{
 "cells": [
  {
   "cell_type": "markdown",
   "id": "b996a4a9-e765-4798-97bb-30a0ed612f6f",
   "metadata": {},
   "source": [
    "# Identifying a Complex & Unfolding its Φ-structure\n",
    "In this notebook we will show what identifying Identifying a Complex & Unfolding its Φ-structure for a particular substrate might look like when using pyphi---the python package developed specifically for IIT.\n",
    "\n",
    "Let's go!"
   ]
  },
  {
   "cell_type": "markdown",
   "id": "07187fc8-2029-46e5-8bf8-06887364c533",
   "metadata": {},
   "source": [
    "---\n",
    "First, let's get aqcuainted with the substrate we will use in the example. \n",
    "It is taken from the latest publication, and is constituted of three simple, binary units (A, B, and C), each one of which is activated according to a sigmoidal activation function. \n",
    "Its connectivity, together with the units own function, determines the subtrate's TPM---the basis for the mathematical formalism we use in IIT.\n",
    " \n",
    "<img src=\"https://github.com/bjorneju/IIT_wiki_tutorial/blob/main/notebooks/figures/Panel_1.jpg?raw=true\" width=500/>\n",
    "\n",
    "For the purposes of the tutorial (this notebook, together with the siz notebooks associated with each of the postulates of IIT), this substrate is considered as all there is. \n",
    "It is obviously much to simple to account most of the properties we know from our own experiences, but serves as simple substrate on which we can apply the formalism of IIT. "
   ]
  },
  {
   "cell_type": "markdown",
   "id": "a7a17954-dd18-4bac-a8be-9227dcde8903",
   "metadata": {
    "tags": []
   },
   "source": [
    "## Import packages\n",
    "The first thing to do is import the packages we will need"
   ]
  },
  {
   "cell_type": "code",
   "execution_count": 1,
   "id": "6009f776-11a0-4301-b2b9-9b41029e9809",
   "metadata": {
    "tags": []
   },
   "outputs": [],
   "source": [
    "import pyphi\n",
    "from tutorial_functions import utils\n",
    "import numpy as np\n",
    "from pyphi.visualize import plot_phi_structure\n",
    "\n",
    "%load_ext blackcellmagic\n",
    "%load_ext autoreload\n",
    "\n",
    "%matplotlib inline\n",
    "%autoreload 2"
   ]
  },
  {
   "cell_type": "markdown",
   "id": "b977e407-2d55-4488-9202-9622be3d2bce",
   "metadata": {},
   "source": [
    "## Create the substrate\n",
    "Next, let's use the built-in functionality of pyphi to create the substrate from figure 1 of [the IIT 4.0 paper](https://arxiv.org/abs/2212.14787)"
   ]
  },
  {
   "cell_type": "code",
   "execution_count": 2,
   "id": "c7a3681b-83a8-487f-a95e-a6957f22a392",
   "metadata": {
    "tags": []
   },
   "outputs": [
    {
     "data": {
      "text/plain": [
       "NodeLabels(('A', 'B', 'C'))"
      ]
     },
     "execution_count": 2,
     "metadata": {},
     "output_type": "execute_result"
    }
   ],
   "source": [
    "# give names to the units\n",
    "node_labels = [\"A\",\"B\",\"C\"]\n",
    "\n",
    "# set the strength of connectivity between units\n",
    "connectivity = np.array(\n",
    "    [\n",
    "        [-.2,0.7,0.2],\n",
    "        [0.7,-.2,0.0],\n",
    "        [0.0,-.8,0.2]        \n",
    "    ]\n",
    ")\n",
    "\n",
    "# set the level of determinism for the units' activation function \n",
    "determinism = 4\n",
    "\n",
    "# build the network\n",
    "substrate = pyphi.network_generator.build_network(\n",
    "    [pyphi.network_generator.ising.probability]*len(node_labels),\n",
    "    connectivity,\n",
    "    temperature=1/determinism,\n",
    "    node_labels=node_labels\n",
    ")\n",
    "\n",
    "# define the state of the substrate\n",
    "state = (0,1,1)\n",
    "\n",
    "substrate.node_labels"
   ]
  },
  {
   "cell_type": "markdown",
   "id": "3d9a7b7c-5ccb-49bb-b842-b99a8956eb84",
   "metadata": {
    "tags": []
   },
   "source": [
    "## The questions: What are the complexes in this substrate? and how are their intrinsic causal powers structured? \n",
    "To answer these questions, we must apply the postulates of IIT in a systematic manner, first to find the maxima of irreducible cause--effect power (isolate the complexes), then to unfold thier Φ-structures."
   ]
  },
  {
   "cell_type": "markdown",
   "id": "89a85e01-5227-4403-bad8-48e392171b69",
   "metadata": {},
   "source": [
    "## Isolate the complexes"
   ]
  },
  {
   "cell_type": "code",
   "execution_count": 3,
   "id": "6160bddf-39a4-4a39-85f0-1667be376f07",
   "metadata": {
    "tags": []
   },
   "outputs": [
    {
     "name": "stdout",
     "output_type": "stream",
     "text": [
      "This substrate comprises 2 complexes. \n",
      "C and AB\n"
     ]
    }
   ],
   "source": [
    "complexes = utils.all_complexes(substrate,state)"
   ]
  },
  {
   "cell_type": "code",
   "execution_count": 4,
   "id": "94d15914-e85c-4388-83a2-ada2100a4bfa",
   "metadata": {
    "tags": []
   },
   "outputs": [
    {
     "data": {
      "text/plain": [
       "[┌─────────────────────────────────────┐\n",
       " │     SystemIrreducibilityAnalysis    │\n",
       " │ ━━━━━━━━━━━━━━━━━━━━━━━━━━━━━━━━━━━ │\n",
       " │      Subsystem:  C                  │\n",
       " │  Current state: 1                   │\n",
       " │            φ_s: 0.291059849766587   │\n",
       " │ Normalized φ_s: 0.291059849766587   │\n",
       " │          CAUSE:  (1,)               │\n",
       " │           II_c: 0.43573033042974085 │\n",
       " │         EFFECT:  (1,)               │\n",
       " │           II_e: 0.291059849766587   │\n",
       " │   #(tied MIPs): 0                   │\n",
       " │      Partition:                     │\n",
       " │                 Complete            │\n",
       " │                 [[1]]               │\n",
       " └─────────────────────────────────────┘,\n",
       " ┌─────────────────────────────────────┐\n",
       " │     SystemIrreducibilityAnalysis    │\n",
       " │ ━━━━━━━━━━━━━━━━━━━━━━━━━━━━━━━━━━━ │\n",
       " │      Subsystem:  A,B                │\n",
       " │  Current state:  0,1                │\n",
       " │            φ_s: 0.17186288899180477 │\n",
       " │ Normalized φ_s: 0.17186288899180477 │\n",
       " │          CAUSE:  (1, 0)             │\n",
       " │           II_c: 1.8204323342996387  │\n",
       " │         EFFECT:  (1, 0)             │\n",
       " │           II_e: 1.0976297820383176  │\n",
       " │   #(tied MIPs): 0                   │\n",
       " │      Partition:                     │\n",
       " │                 2 parts: {A,B}      │\n",
       " │                 [[0 1]              │\n",
       " │                  [0 0]]             │\n",
       " └─────────────────────────────────────┘]"
      ]
     },
     "execution_count": 4,
     "metadata": {},
     "output_type": "execute_result"
    }
   ],
   "source": [
    "# inspect the system irreducibility analysis for each complex\n",
    "complexes"
   ]
  },
  {
   "cell_type": "markdown",
   "id": "e6a80b2f-6c55-4fda-a50c-5f1443996573",
   "metadata": {},
   "source": [
    "## unfold their phi structures"
   ]
  },
  {
   "cell_type": "code",
   "execution_count": 5,
   "id": "92586b33-1d71-4881-a095-2b35db4b035c",
   "metadata": {
    "tags": []
   },
   "outputs": [
    {
     "name": "stdout",
     "output_type": "stream",
     "text": [
      "C's structure has 1 distinction(s) and 1 relation(s), with Φ=0.582\n",
      "AB's structure has 3 distinction(s) and 7 relation(s), with Φ=3.006\n"
     ]
    }
   ],
   "source": [
    "phi_structures = utils.unfold_phi_structures(substrate,state,complexes)\n"
   ]
  },
  {
   "cell_type": "code",
   "execution_count": 6,
   "id": "950de0e0-9b20-41d4-878e-d3e916983eb8",
   "metadata": {
    "tags": []
   },
   "outputs": [
    {
     "data": {
      "text/plain": [
       "[┌─────────────────────────────────────────┐\n",
       " │               PhiStructure              │\n",
       " │    ══════════════════════════════════   │\n",
       " │                  Φ: 0.582119699533174   │\n",
       " │    #(distinctions): 1                   │\n",
       " │              Σ φ_d: 0.291059849766587   │\n",
       " │       #(relations): 1                   │\n",
       " │              Σ φ_r: 0.291059849766587   │\n",
       " │ ┌─────────────────────────────────────┐ │\n",
       " │ │     SystemIrreducibilityAnalysis    │ │\n",
       " │ │ ━━━━━━━━━━━━━━━━━━━━━━━━━━━━━━━━━━━ │ │\n",
       " │ │      Subsystem:  C                  │ │\n",
       " │ │  Current state: 1                   │ │\n",
       " │ │            φ_s: 0.291059849766587   │ │\n",
       " │ │ Normalized φ_s: 0.291059849766587   │ │\n",
       " │ │          CAUSE:  (1,)               │ │\n",
       " │ │           II_c: 0.43573033042974085 │ │\n",
       " │ │         EFFECT:  (1,)               │ │\n",
       " │ │           II_e: 0.291059849766587   │ │\n",
       " │ │   #(tied MIPs): 0                   │ │\n",
       " │ │      Partition:                     │ │\n",
       " │ │                 Complete            │ │\n",
       " │ │                 [[1]]               │ │\n",
       " │ └─────────────────────────────────────┘ │\n",
       " └─────────────────────────────────────────┘,\n",
       " ┌─────────────────────────────────────────┐\n",
       " │               PhiStructure              │\n",
       " │   ═══════════════════════════════════   │\n",
       " │                 Φ: 3.0061363372488614   │\n",
       " │   #(distinctions): 3                    │\n",
       " │             Σ φ_d: 1.265263549320584    │\n",
       " │      #(relations): 7                    │\n",
       " │             Σ φ_r: 1.7408727879282773   │\n",
       " │ ┌─────────────────────────────────────┐ │\n",
       " │ │     SystemIrreducibilityAnalysis    │ │\n",
       " │ │ ━━━━━━━━━━━━━━━━━━━━━━━━━━━━━━━━━━━ │ │\n",
       " │ │      Subsystem:  A,B                │ │\n",
       " │ │  Current state:  0,1                │ │\n",
       " │ │            φ_s: 0.17186288899180477 │ │\n",
       " │ │ Normalized φ_s: 0.17186288899180477 │ │\n",
       " │ │          CAUSE:  (1, 0)             │ │\n",
       " │ │           II_c: 1.8204323342996387  │ │\n",
       " │ │         EFFECT:  (1, 0)             │ │\n",
       " │ │           II_e: 1.0976297820383176  │ │\n",
       " │ │   #(tied MIPs): 0                   │ │\n",
       " │ │      Partition:                     │ │\n",
       " │ │                 2 parts: {A,B}      │ │\n",
       " │ │                 [[0 1]              │ │\n",
       " │ │                  [0 0]]             │ │\n",
       " │ └─────────────────────────────────────┘ │\n",
       " └─────────────────────────────────────────┘]"
      ]
     },
     "execution_count": 6,
     "metadata": {},
     "output_type": "execute_result"
    }
   ],
   "source": [
    "# or inspect the structures with pyphi's built-in representation\n",
    "phi_structures"
   ]
  },
  {
   "cell_type": "markdown",
   "id": "ddc0f795-fe47-445b-8d47-765e5e293c72",
   "metadata": {},
   "source": [
    "---\n",
    "# In conclusion\n",
    "The substrate in its current state appears to comprise two intrinsic entities: the systems we labeled C and AB. Each of them form maximally irreducible wholes, and specify their own Phi-structure composed of distinctions and relations. \n",
    "\n",
    "In the subsequent sections of the tutorial, we will delve into what happens in the process of unfolding. Specifically, we will go postulate by postulate, and assess whether the substrate (or subsystems within it) satisfy the first five (existence, intrinsicality, information, integration, and exclusion). Then we will unfold show what goes into unfolding the Phi-structures specified by the maximally irreducible entities isolated in the previous step.\n",
    "\n",
    "Hope to see you in the next one!"
   ]
  }
 ],
 "metadata": {
  "kernelspec": {
   "display_name": "Python 3 (ipykernel)",
   "language": "python",
   "name": "python3"
  },
  "language_info": {
   "codemirror_mode": {
    "name": "ipython",
    "version": 3
   },
   "file_extension": ".py",
   "mimetype": "text/x-python",
   "name": "python",
   "nbconvert_exporter": "python",
   "pygments_lexer": "ipython3",
   "version": "3.10.9"
  }
 },
 "nbformat": 4,
 "nbformat_minor": 5
}
